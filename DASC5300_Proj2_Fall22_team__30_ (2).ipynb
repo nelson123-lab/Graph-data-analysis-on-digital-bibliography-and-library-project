{
  "cells": [
    {
      "cell_type": "code",
      "execution_count": null,
      "metadata": {
        "id": "u_d-s22qicDg"
      },
      "outputs": [],
      "source": [
        "import pandas as pd\n",
        "import numpy as np\n",
        "import networkx as nx\n",
        "import json\n",
        "import regex as re\n",
        "import itertools\n",
        "import matplotlib.pyplot as plt\n",
        "%matplotlib inline\n"
      ]
    },
    {
      "cell_type": "code",
      "execution_count": null,
      "metadata": {
        "colab": {
          "base_uri": "https://localhost:8080/"
        },
        "id": "YdLD4qCXAvjQ",
        "outputId": "8a339a97-afcd-4cd3-e016-31007e8553ce"
      },
      "outputs": [
        {
          "output_type": "stream",
          "name": "stdout",
          "text": [
            "Drive already mounted at /content/drive; to attempt to forcibly remount, call drive.mount(\"/content/drive\", force_remount=True).\n"
          ]
        }
      ],
      "source": [
        "from google.colab import drive\n",
        "drive.mount('/content/drive')"
      ]
    },
    {
      "cell_type": "code",
      "execution_count": null,
      "metadata": {
        "id": "bdI9Ta-0Hszt"
      },
      "outputs": [],
      "source": [
        "# #jeeva\n",
        "# file1 = '/content/drive/MyDrive/FOC Project 2/dblp.v10/dblp.v10/dblp-ref/dblp-ref-0.json'\n",
        "# file2 = '/content/drive/MyDrive/FOC Project 2/dblp.v10/dblp.v10/dblp-ref/dblp-ref-1.json'\n",
        "# file3 = '/content/drive/MyDrive/FOC Project 2/dblp.v10/dblp.v10/dblp-ref/dblp-ref-2.json'\n",
        "# file4 = '/content/drive/MyDrive/FOC Project 2/dblp.v10/dblp.v10/dblp-ref/dblp-ref-3.json'"
      ]
    },
    {
      "cell_type": "markdown",
      "metadata": {
        "id": "VXocCHYYC_fw"
      },
      "source": [
        "**Loading the json files**"
      ]
    },
    {
      "cell_type": "code",
      "execution_count": null,
      "metadata": {
        "id": "_VId3aoKA4M0"
      },
      "outputs": [],
      "source": [
        "#nelson\n",
        "file1 = '/content/drive/MyDrive/dblp.v10/dblp-ref/dblp-ref-0.json'\n",
        "file2 = '/content/drive/MyDrive/dblp.v10/dblp-ref/dblp-ref-1.json'\n",
        "file3 = '/content/drive/MyDrive/dblp.v10/dblp-ref/dblp-ref-2.json'\n",
        "file4 = '/content/drive/MyDrive/dblp.v10/dblp-ref/dblp-ref-3.json'"
      ]
    },
    {
      "cell_type": "code",
      "execution_count": null,
      "metadata": {
        "id": "MoS_pqEY140f"
      },
      "outputs": [],
      "source": [
        "data = []\n",
        "chunk_size = 100"
      ]
    },
    {
      "cell_type": "code",
      "execution_count": null,
      "metadata": {
        "id": "5ESTD3zjBNiy"
      },
      "outputs": [],
      "source": [
        "#Taking chunks of 5000 data from file 1\n",
        "df = pd.read_json(file1, lines = True, chunksize = chunk_size)\n",
        "for chunk1 in df:\n",
        "  data.append(chunk1)\n",
        "  break"
      ]
    },
    {
      "cell_type": "code",
      "execution_count": null,
      "metadata": {
        "id": "8rvozHveZZIs"
      },
      "outputs": [],
      "source": [
        "#Taking chunks of 5000 data from file 2\n",
        "df = pd.read_json(file2, lines = True, chunksize = chunk_size)\n",
        "for chunk2 in df:\n",
        "  data.append(chunk2)\n",
        "  break"
      ]
    },
    {
      "cell_type": "code",
      "execution_count": null,
      "metadata": {
        "id": "qfUEOgCqZk3Z"
      },
      "outputs": [],
      "source": [
        "#Taking chunks of 5000 data from file 3\n",
        "df = pd.read_json(file3, lines = True, chunksize = chunk_size)\n",
        "for chunk3 in df:\n",
        "  data.append(chunk3)\n",
        "  break"
      ]
    },
    {
      "cell_type": "code",
      "execution_count": null,
      "metadata": {
        "id": "O-GG201QZoq4"
      },
      "outputs": [],
      "source": [
        "#Taking chunks of 5000 data from file 4\n",
        "df = pd.read_json(file4, lines = True, chunksize = chunk_size)\n",
        "for chunk4 in df:\n",
        "  data.append(chunk4)\n",
        "  break"
      ]
    },
    {
      "cell_type": "markdown",
      "metadata": {
        "id": "1lS5LSL7S2pM"
      },
      "source": [
        "# **Combining the Data sets**"
      ]
    },
    {
      "cell_type": "code",
      "execution_count": null,
      "metadata": {
        "id": "Jxgyyne9TEer"
      },
      "outputs": [],
      "source": [
        "#Dataframes are combined to form a new dataframe.\n",
        "df_combined = pd.concat(data)"
      ]
    },
    {
      "cell_type": "markdown",
      "metadata": {
        "id": "eYRV82zLqa5v"
      },
      "source": [
        "# **Pre-Processing of the data**"
      ]
    },
    {
      "cell_type": "code",
      "execution_count": null,
      "metadata": {
        "colab": {
          "base_uri": "https://localhost:8080/",
          "height": 650
        },
        "id": "EVXgI1NEwutR",
        "outputId": "e02d8704-f3b2-4665-9a66-08f4d55ec956"
      },
      "outputs": [
        {
          "output_type": "execute_result",
          "data": {
            "text/plain": [
              "                                            abstract  \\\n",
              "0  The purpose of this study is to develop a lear...   \n",
              "1  This paper describes the design and implementa...   \n",
              "2  This article applied GARCH model instead AR or...   \n",
              "3                                                NaN   \n",
              "4                                                NaN   \n",
              "5                                                NaN   \n",
              "6                                                NaN   \n",
              "7                                                NaN   \n",
              "8                                                NaN   \n",
              "9                                                NaN   \n",
              "\n",
              "                                             authors  n_citation  \\\n",
              "0  [Makoto Satoh, Ryo Muramatsu, Mizue Kayama, Ka...           0   \n",
              "1                        [Gareth Beale, Graeme Earl]          50   \n",
              "2  [Altaf Hossain, Faisal Zaman, Mohammed Nasser,...          50   \n",
              "3  [Jea-Bum Park, Byungmok Kim, Jian Shen, Sun-Yo...           0   \n",
              "4                [Giovanna Guerrini, Isabella Merlo]           2   \n",
              "5  [Rafael Álvarez, Leandro Tortosa, José-Francis...           0   \n",
              "6               [Jovan Dj. Golic, Guglielmo Morgari]           2   \n",
              "7   [Guzin Ulutas, Mustafa Ulutas, Vasif V. Nabiyev]           0   \n",
              "8               [Pranay Chaudhuri, Hussein Thompson]           0   \n",
              "9               [Dominik Szajerman, Adam Jurczyński]           0   \n",
              "\n",
              "                                          references  \\\n",
              "0  [51c7e02e-f5ed-431a-8cf5-f761f266d4be, 69b625b...   \n",
              "1  [10482dd3-4642-4193-842f-85f3b70fcf65, 3133714...   \n",
              "2  [2d84c0f2-e656-4ce7-b018-90eda1c132fe, a083a1b...   \n",
              "3  [8c78e4b0-632b-4293-b491-85b1976675e6, 9cdc54f...   \n",
              "4                                                NaN   \n",
              "5                                                NaN   \n",
              "6                                                NaN   \n",
              "7  [5626736c-e434-4e2d-8405-54940fab88ab, 8e87e87...   \n",
              "8                                                NaN   \n",
              "9  [3fcd7cdc-20e6-4ea3-a41c-db126fcc5cfe, bf3a11c...   \n",
              "\n",
              "                                               title  \\\n",
              "0  Preliminary Design of a Network Protocol Learn...   \n",
              "1  A methodology for the physically accurate visu...   \n",
              "2  Comparison of GARCH, Neural Network and Suppor...   \n",
              "3  Development of Remote Monitoring and Control D...   \n",
              "4  Reasonig about Set-Oriented Methods in Object ...   \n",
              "5  COMPARING GNG3D AND QUADRIC ERROR METRICS METH...   \n",
              "6                Vectorial fast correlation attacks.   \n",
              "7  Improved Secret Image Sharing Method By Encodi...   \n",
              "8  A Self-Stabilizing Algorithm for Finding the C...   \n",
              "9  Fur Visualisation for Computer Game Engines an...   \n",
              "\n",
              "                                               venue  year  \\\n",
              "0  international conference on human-computer int...  2013   \n",
              "1            visual analytics science and technology  2011   \n",
              "2       pattern recognition and machine intelligence  2009   \n",
              "3                                                     2011   \n",
              "4                                                     1998   \n",
              "5  international conference on computer graphics ...  2009   \n",
              "6                                                     2004   \n",
              "7  international symposium on computer and inform...  2011   \n",
              "8  parallel and distributed processing techniques...  2003   \n",
              "9  international conference on computer vision an...  2014   \n",
              "\n",
              "                                     id  \n",
              "0  00127ee2-cb05-48ce-bc49-9de556b93346  \n",
              "1  001c58d3-26ad-46b3-ab3a-c1e557d16821  \n",
              "2  001c8744-73c4-4b04-9364-22d31a10dbf1  \n",
              "3  00338203-9eb3-40c5-9f31-cbac73a519ec  \n",
              "4  0040b022-1472-4f70-a753-74832df65266  \n",
              "5  005ce28f-ed77-4e97-afdc-a296137186a1  \n",
              "6  00638a94-23bf-4fa6-b5ce-40d799c65da7  \n",
              "7  00701b05-684f-45f9-b281-425abfec482c  \n",
              "8  00745041-3636-4d18-bbec-783c4278c40d  \n",
              "9  00964544-cbe2-4da9-bb5a-03333160eb34  "
            ],
            "text/html": [
              "\n",
              "  <div id=\"df-d4092aa5-ef56-4b58-95d1-0d2772b0d591\">\n",
              "    <div class=\"colab-df-container\">\n",
              "      <div>\n",
              "<style scoped>\n",
              "    .dataframe tbody tr th:only-of-type {\n",
              "        vertical-align: middle;\n",
              "    }\n",
              "\n",
              "    .dataframe tbody tr th {\n",
              "        vertical-align: top;\n",
              "    }\n",
              "\n",
              "    .dataframe thead th {\n",
              "        text-align: right;\n",
              "    }\n",
              "</style>\n",
              "<table border=\"1\" class=\"dataframe\">\n",
              "  <thead>\n",
              "    <tr style=\"text-align: right;\">\n",
              "      <th></th>\n",
              "      <th>abstract</th>\n",
              "      <th>authors</th>\n",
              "      <th>n_citation</th>\n",
              "      <th>references</th>\n",
              "      <th>title</th>\n",
              "      <th>venue</th>\n",
              "      <th>year</th>\n",
              "      <th>id</th>\n",
              "    </tr>\n",
              "  </thead>\n",
              "  <tbody>\n",
              "    <tr>\n",
              "      <th>0</th>\n",
              "      <td>The purpose of this study is to develop a lear...</td>\n",
              "      <td>[Makoto Satoh, Ryo Muramatsu, Mizue Kayama, Ka...</td>\n",
              "      <td>0</td>\n",
              "      <td>[51c7e02e-f5ed-431a-8cf5-f761f266d4be, 69b625b...</td>\n",
              "      <td>Preliminary Design of a Network Protocol Learn...</td>\n",
              "      <td>international conference on human-computer int...</td>\n",
              "      <td>2013</td>\n",
              "      <td>00127ee2-cb05-48ce-bc49-9de556b93346</td>\n",
              "    </tr>\n",
              "    <tr>\n",
              "      <th>1</th>\n",
              "      <td>This paper describes the design and implementa...</td>\n",
              "      <td>[Gareth Beale, Graeme Earl]</td>\n",
              "      <td>50</td>\n",
              "      <td>[10482dd3-4642-4193-842f-85f3b70fcf65, 3133714...</td>\n",
              "      <td>A methodology for the physically accurate visu...</td>\n",
              "      <td>visual analytics science and technology</td>\n",
              "      <td>2011</td>\n",
              "      <td>001c58d3-26ad-46b3-ab3a-c1e557d16821</td>\n",
              "    </tr>\n",
              "    <tr>\n",
              "      <th>2</th>\n",
              "      <td>This article applied GARCH model instead AR or...</td>\n",
              "      <td>[Altaf Hossain, Faisal Zaman, Mohammed Nasser,...</td>\n",
              "      <td>50</td>\n",
              "      <td>[2d84c0f2-e656-4ce7-b018-90eda1c132fe, a083a1b...</td>\n",
              "      <td>Comparison of GARCH, Neural Network and Suppor...</td>\n",
              "      <td>pattern recognition and machine intelligence</td>\n",
              "      <td>2009</td>\n",
              "      <td>001c8744-73c4-4b04-9364-22d31a10dbf1</td>\n",
              "    </tr>\n",
              "    <tr>\n",
              "      <th>3</th>\n",
              "      <td>NaN</td>\n",
              "      <td>[Jea-Bum Park, Byungmok Kim, Jian Shen, Sun-Yo...</td>\n",
              "      <td>0</td>\n",
              "      <td>[8c78e4b0-632b-4293-b491-85b1976675e6, 9cdc54f...</td>\n",
              "      <td>Development of Remote Monitoring and Control D...</td>\n",
              "      <td></td>\n",
              "      <td>2011</td>\n",
              "      <td>00338203-9eb3-40c5-9f31-cbac73a519ec</td>\n",
              "    </tr>\n",
              "    <tr>\n",
              "      <th>4</th>\n",
              "      <td>NaN</td>\n",
              "      <td>[Giovanna Guerrini, Isabella Merlo]</td>\n",
              "      <td>2</td>\n",
              "      <td>NaN</td>\n",
              "      <td>Reasonig about Set-Oriented Methods in Object ...</td>\n",
              "      <td></td>\n",
              "      <td>1998</td>\n",
              "      <td>0040b022-1472-4f70-a753-74832df65266</td>\n",
              "    </tr>\n",
              "    <tr>\n",
              "      <th>5</th>\n",
              "      <td>NaN</td>\n",
              "      <td>[Rafael Álvarez, Leandro Tortosa, José-Francis...</td>\n",
              "      <td>0</td>\n",
              "      <td>NaN</td>\n",
              "      <td>COMPARING GNG3D AND QUADRIC ERROR METRICS METH...</td>\n",
              "      <td>international conference on computer graphics ...</td>\n",
              "      <td>2009</td>\n",
              "      <td>005ce28f-ed77-4e97-afdc-a296137186a1</td>\n",
              "    </tr>\n",
              "    <tr>\n",
              "      <th>6</th>\n",
              "      <td>NaN</td>\n",
              "      <td>[Jovan Dj. Golic, Guglielmo Morgari]</td>\n",
              "      <td>2</td>\n",
              "      <td>NaN</td>\n",
              "      <td>Vectorial fast correlation attacks.</td>\n",
              "      <td></td>\n",
              "      <td>2004</td>\n",
              "      <td>00638a94-23bf-4fa6-b5ce-40d799c65da7</td>\n",
              "    </tr>\n",
              "    <tr>\n",
              "      <th>7</th>\n",
              "      <td>NaN</td>\n",
              "      <td>[Guzin Ulutas, Mustafa Ulutas, Vasif V. Nabiyev]</td>\n",
              "      <td>0</td>\n",
              "      <td>[5626736c-e434-4e2d-8405-54940fab88ab, 8e87e87...</td>\n",
              "      <td>Improved Secret Image Sharing Method By Encodi...</td>\n",
              "      <td>international symposium on computer and inform...</td>\n",
              "      <td>2011</td>\n",
              "      <td>00701b05-684f-45f9-b281-425abfec482c</td>\n",
              "    </tr>\n",
              "    <tr>\n",
              "      <th>8</th>\n",
              "      <td>NaN</td>\n",
              "      <td>[Pranay Chaudhuri, Hussein Thompson]</td>\n",
              "      <td>0</td>\n",
              "      <td>NaN</td>\n",
              "      <td>A Self-Stabilizing Algorithm for Finding the C...</td>\n",
              "      <td>parallel and distributed processing techniques...</td>\n",
              "      <td>2003</td>\n",
              "      <td>00745041-3636-4d18-bbec-783c4278c40d</td>\n",
              "    </tr>\n",
              "    <tr>\n",
              "      <th>9</th>\n",
              "      <td>NaN</td>\n",
              "      <td>[Dominik Szajerman, Adam Jurczyński]</td>\n",
              "      <td>0</td>\n",
              "      <td>[3fcd7cdc-20e6-4ea3-a41c-db126fcc5cfe, bf3a11c...</td>\n",
              "      <td>Fur Visualisation for Computer Game Engines an...</td>\n",
              "      <td>international conference on computer vision an...</td>\n",
              "      <td>2014</td>\n",
              "      <td>00964544-cbe2-4da9-bb5a-03333160eb34</td>\n",
              "    </tr>\n",
              "  </tbody>\n",
              "</table>\n",
              "</div>\n",
              "      <button class=\"colab-df-convert\" onclick=\"convertToInteractive('df-d4092aa5-ef56-4b58-95d1-0d2772b0d591')\"\n",
              "              title=\"Convert this dataframe to an interactive table.\"\n",
              "              style=\"display:none;\">\n",
              "        \n",
              "  <svg xmlns=\"http://www.w3.org/2000/svg\" height=\"24px\"viewBox=\"0 0 24 24\"\n",
              "       width=\"24px\">\n",
              "    <path d=\"M0 0h24v24H0V0z\" fill=\"none\"/>\n",
              "    <path d=\"M18.56 5.44l.94 2.06.94-2.06 2.06-.94-2.06-.94-.94-2.06-.94 2.06-2.06.94zm-11 1L8.5 8.5l.94-2.06 2.06-.94-2.06-.94L8.5 2.5l-.94 2.06-2.06.94zm10 10l.94 2.06.94-2.06 2.06-.94-2.06-.94-.94-2.06-.94 2.06-2.06.94z\"/><path d=\"M17.41 7.96l-1.37-1.37c-.4-.4-.92-.59-1.43-.59-.52 0-1.04.2-1.43.59L10.3 9.45l-7.72 7.72c-.78.78-.78 2.05 0 2.83L4 21.41c.39.39.9.59 1.41.59.51 0 1.02-.2 1.41-.59l7.78-7.78 2.81-2.81c.8-.78.8-2.07 0-2.86zM5.41 20L4 18.59l7.72-7.72 1.47 1.35L5.41 20z\"/>\n",
              "  </svg>\n",
              "      </button>\n",
              "      \n",
              "  <style>\n",
              "    .colab-df-container {\n",
              "      display:flex;\n",
              "      flex-wrap:wrap;\n",
              "      gap: 12px;\n",
              "    }\n",
              "\n",
              "    .colab-df-convert {\n",
              "      background-color: #E8F0FE;\n",
              "      border: none;\n",
              "      border-radius: 50%;\n",
              "      cursor: pointer;\n",
              "      display: none;\n",
              "      fill: #1967D2;\n",
              "      height: 32px;\n",
              "      padding: 0 0 0 0;\n",
              "      width: 32px;\n",
              "    }\n",
              "\n",
              "    .colab-df-convert:hover {\n",
              "      background-color: #E2EBFA;\n",
              "      box-shadow: 0px 1px 2px rgba(60, 64, 67, 0.3), 0px 1px 3px 1px rgba(60, 64, 67, 0.15);\n",
              "      fill: #174EA6;\n",
              "    }\n",
              "\n",
              "    [theme=dark] .colab-df-convert {\n",
              "      background-color: #3B4455;\n",
              "      fill: #D2E3FC;\n",
              "    }\n",
              "\n",
              "    [theme=dark] .colab-df-convert:hover {\n",
              "      background-color: #434B5C;\n",
              "      box-shadow: 0px 1px 3px 1px rgba(0, 0, 0, 0.15);\n",
              "      filter: drop-shadow(0px 1px 2px rgba(0, 0, 0, 0.3));\n",
              "      fill: #FFFFFF;\n",
              "    }\n",
              "  </style>\n",
              "\n",
              "      <script>\n",
              "        const buttonEl =\n",
              "          document.querySelector('#df-d4092aa5-ef56-4b58-95d1-0d2772b0d591 button.colab-df-convert');\n",
              "        buttonEl.style.display =\n",
              "          google.colab.kernel.accessAllowed ? 'block' : 'none';\n",
              "\n",
              "        async function convertToInteractive(key) {\n",
              "          const element = document.querySelector('#df-d4092aa5-ef56-4b58-95d1-0d2772b0d591');\n",
              "          const dataTable =\n",
              "            await google.colab.kernel.invokeFunction('convertToInteractive',\n",
              "                                                     [key], {});\n",
              "          if (!dataTable) return;\n",
              "\n",
              "          const docLinkHtml = 'Like what you see? Visit the ' +\n",
              "            '<a target=\"_blank\" href=https://colab.research.google.com/notebooks/data_table.ipynb>data table notebook</a>'\n",
              "            + ' to learn more about interactive tables.';\n",
              "          element.innerHTML = '';\n",
              "          dataTable['output_type'] = 'display_data';\n",
              "          await google.colab.output.renderOutput(dataTable, element);\n",
              "          const docLink = document.createElement('div');\n",
              "          docLink.innerHTML = docLinkHtml;\n",
              "          element.appendChild(docLink);\n",
              "        }\n",
              "      </script>\n",
              "    </div>\n",
              "  </div>\n",
              "  "
            ]
          },
          "metadata": {},
          "execution_count": 115
        }
      ],
      "source": [
        "df_combined.head(10)"
      ]
    },
    {
      "cell_type": "code",
      "execution_count": null,
      "metadata": {
        "colab": {
          "base_uri": "https://localhost:8080/"
        },
        "id": "04Y_7k2ssjla",
        "outputId": "694bd5da-6bd6-4c91-ccca-fa02d90aa7cf"
      },
      "outputs": [
        {
          "output_type": "execute_result",
          "data": {
            "text/plain": [
              "(400, 8)"
            ]
          },
          "metadata": {},
          "execution_count": 116
        }
      ],
      "source": [
        "df_combined.shape"
      ]
    },
    {
      "cell_type": "code",
      "execution_count": null,
      "metadata": {
        "colab": {
          "base_uri": "https://localhost:8080/"
        },
        "id": "onss52h-qaMx",
        "outputId": "ea82be83-74b3-488f-c498-5fed4b5a7938"
      },
      "outputs": [
        {
          "output_type": "stream",
          "name": "stdout",
          "text": [
            "<class 'pandas.core.frame.DataFrame'>\n",
            "Int64Index: 400 entries, 0 to 99\n",
            "Data columns (total 8 columns):\n",
            " #   Column      Non-Null Count  Dtype \n",
            "---  ------      --------------  ----- \n",
            " 0   abstract    293 non-null    object\n",
            " 1   authors     400 non-null    object\n",
            " 2   n_citation  400 non-null    int64 \n",
            " 3   references  336 non-null    object\n",
            " 4   title       400 non-null    object\n",
            " 5   venue       400 non-null    object\n",
            " 6   year        400 non-null    int64 \n",
            " 7   id          400 non-null    object\n",
            "dtypes: int64(2), object(6)\n",
            "memory usage: 28.1+ KB\n"
          ]
        }
      ],
      "source": [
        "df_combined.info()\n",
        "# Only 2 columns have integer type. Except 'n_citation' and 'year' all are objects."
      ]
    },
    {
      "cell_type": "code",
      "execution_count": null,
      "metadata": {
        "colab": {
          "base_uri": "https://localhost:8080/"
        },
        "id": "hur4AL5xrtPh",
        "outputId": "9e676479-64ae-4ec3-bf37-9b0916b6c1c5"
      },
      "outputs": [
        {
          "output_type": "execute_result",
          "data": {
            "text/plain": [
              "abstract      107\n",
              "authors         0\n",
              "n_citation      0\n",
              "references     64\n",
              "title           0\n",
              "venue           0\n",
              "year            0\n",
              "id              0\n",
              "dtype: int64"
            ]
          },
          "metadata": {},
          "execution_count": 118
        }
      ],
      "source": [
        "#Checking for Null values in each column\n",
        "df_combined.isna().sum()"
      ]
    },
    {
      "cell_type": "markdown",
      "metadata": {
        "id": "gyH0QY-6sWIr"
      },
      "source": [
        "**We found that there are 362865 Null values in references and 530475 Null Values in abstract column out of the 3079007 rows of data.**"
      ]
    },
    {
      "cell_type": "markdown",
      "metadata": {
        "id": "uEbgOzXdfrDm"
      },
      "source": [
        "**There are 362865 papers in the data without any references. They wrote it without refering to anyone. ie, 11.7% of the papers are without any reference**"
      ]
    },
    {
      "cell_type": "code",
      "execution_count": null,
      "metadata": {
        "colab": {
          "base_uri": "https://localhost:8080/"
        },
        "id": "OLbUBADivriz",
        "outputId": "3164e623-054d-4a5f-b5e6-e8f386aa0bc2"
      },
      "outputs": [
        {
          "output_type": "execute_result",
          "data": {
            "text/plain": [
              "abstract      107\n",
              "authors         0\n",
              "n_citation      0\n",
              "references     64\n",
              "title           0\n",
              "venue          84\n",
              "year            0\n",
              "id              0\n",
              "dtype: int64"
            ]
          },
          "metadata": {},
          "execution_count": 119
        }
      ],
      "source": [
        "# Replacing blank values with DataFrame.replace() methods.\n",
        "df_combined = df_combined.replace(r'^\\s*$', np.nan, regex=True)\n",
        "df_combined.isna().sum()"
      ]
    },
    {
      "cell_type": "markdown",
      "metadata": {
        "id": "QMF7Yc_cyGIr"
      },
      "source": [
        "**There are 506699 Null values in the venue Column that was empty before. We can understand that there are 506699 papers in this 3079007 rows of data that are not published in any Conference.**"
      ]
    },
    {
      "cell_type": "markdown",
      "metadata": {
        "id": "IUEnUCyFgdcZ"
      },
      "source": [
        "**16.4 % of the paper in the data haven't published the paper in any venue**"
      ]
    },
    {
      "cell_type": "code",
      "execution_count": null,
      "metadata": {
        "colab": {
          "base_uri": "https://localhost:8080/",
          "height": 650
        },
        "id": "SBlvSbezwdjA",
        "outputId": "d0bc0544-2958-495e-848a-652fbf519f0d"
      },
      "outputs": [
        {
          "output_type": "execute_result",
          "data": {
            "text/plain": [
              "                                            abstract  \\\n",
              "0  The purpose of this study is to develop a lear...   \n",
              "1  This paper describes the design and implementa...   \n",
              "2  This article applied GARCH model instead AR or...   \n",
              "3                                                NaN   \n",
              "4                                                NaN   \n",
              "5                                                NaN   \n",
              "6                                                NaN   \n",
              "7                                                NaN   \n",
              "8                                                NaN   \n",
              "9                                                NaN   \n",
              "\n",
              "                                             authors  n_citation  \\\n",
              "0  [Makoto Satoh, Ryo Muramatsu, Mizue Kayama, Ka...           0   \n",
              "1                        [Gareth Beale, Graeme Earl]          50   \n",
              "2  [Altaf Hossain, Faisal Zaman, Mohammed Nasser,...          50   \n",
              "3  [Jea-Bum Park, Byungmok Kim, Jian Shen, Sun-Yo...           0   \n",
              "4                [Giovanna Guerrini, Isabella Merlo]           2   \n",
              "5  [Rafael Álvarez, Leandro Tortosa, José-Francis...           0   \n",
              "6               [Jovan Dj. Golic, Guglielmo Morgari]           2   \n",
              "7   [Guzin Ulutas, Mustafa Ulutas, Vasif V. Nabiyev]           0   \n",
              "8               [Pranay Chaudhuri, Hussein Thompson]           0   \n",
              "9               [Dominik Szajerman, Adam Jurczyński]           0   \n",
              "\n",
              "                                          references  \\\n",
              "0  [51c7e02e-f5ed-431a-8cf5-f761f266d4be, 69b625b...   \n",
              "1  [10482dd3-4642-4193-842f-85f3b70fcf65, 3133714...   \n",
              "2  [2d84c0f2-e656-4ce7-b018-90eda1c132fe, a083a1b...   \n",
              "3  [8c78e4b0-632b-4293-b491-85b1976675e6, 9cdc54f...   \n",
              "4                                                NaN   \n",
              "5                                                NaN   \n",
              "6                                                NaN   \n",
              "7  [5626736c-e434-4e2d-8405-54940fab88ab, 8e87e87...   \n",
              "8                                                NaN   \n",
              "9  [3fcd7cdc-20e6-4ea3-a41c-db126fcc5cfe, bf3a11c...   \n",
              "\n",
              "                                               title  \\\n",
              "0  Preliminary Design of a Network Protocol Learn...   \n",
              "1  A methodology for the physically accurate visu...   \n",
              "2  Comparison of GARCH, Neural Network and Suppor...   \n",
              "3  Development of Remote Monitoring and Control D...   \n",
              "4  Reasonig about Set-Oriented Methods in Object ...   \n",
              "5  COMPARING GNG3D AND QUADRIC ERROR METRICS METH...   \n",
              "6                Vectorial fast correlation attacks.   \n",
              "7  Improved Secret Image Sharing Method By Encodi...   \n",
              "8  A Self-Stabilizing Algorithm for Finding the C...   \n",
              "9  Fur Visualisation for Computer Game Engines an...   \n",
              "\n",
              "                                               venue  year  \\\n",
              "0  international conference on human-computer int...  2013   \n",
              "1            visual analytics science and technology  2011   \n",
              "2       pattern recognition and machine intelligence  2009   \n",
              "3                                                NaN  2011   \n",
              "4                                                NaN  1998   \n",
              "5  international conference on computer graphics ...  2009   \n",
              "6                                                NaN  2004   \n",
              "7  international symposium on computer and inform...  2011   \n",
              "8  parallel and distributed processing techniques...  2003   \n",
              "9  international conference on computer vision an...  2014   \n",
              "\n",
              "                                     id  \n",
              "0  00127ee2-cb05-48ce-bc49-9de556b93346  \n",
              "1  001c58d3-26ad-46b3-ab3a-c1e557d16821  \n",
              "2  001c8744-73c4-4b04-9364-22d31a10dbf1  \n",
              "3  00338203-9eb3-40c5-9f31-cbac73a519ec  \n",
              "4  0040b022-1472-4f70-a753-74832df65266  \n",
              "5  005ce28f-ed77-4e97-afdc-a296137186a1  \n",
              "6  00638a94-23bf-4fa6-b5ce-40d799c65da7  \n",
              "7  00701b05-684f-45f9-b281-425abfec482c  \n",
              "8  00745041-3636-4d18-bbec-783c4278c40d  \n",
              "9  00964544-cbe2-4da9-bb5a-03333160eb34  "
            ],
            "text/html": [
              "\n",
              "  <div id=\"df-50d14478-33ca-4313-953a-f88735e8f1d2\">\n",
              "    <div class=\"colab-df-container\">\n",
              "      <div>\n",
              "<style scoped>\n",
              "    .dataframe tbody tr th:only-of-type {\n",
              "        vertical-align: middle;\n",
              "    }\n",
              "\n",
              "    .dataframe tbody tr th {\n",
              "        vertical-align: top;\n",
              "    }\n",
              "\n",
              "    .dataframe thead th {\n",
              "        text-align: right;\n",
              "    }\n",
              "</style>\n",
              "<table border=\"1\" class=\"dataframe\">\n",
              "  <thead>\n",
              "    <tr style=\"text-align: right;\">\n",
              "      <th></th>\n",
              "      <th>abstract</th>\n",
              "      <th>authors</th>\n",
              "      <th>n_citation</th>\n",
              "      <th>references</th>\n",
              "      <th>title</th>\n",
              "      <th>venue</th>\n",
              "      <th>year</th>\n",
              "      <th>id</th>\n",
              "    </tr>\n",
              "  </thead>\n",
              "  <tbody>\n",
              "    <tr>\n",
              "      <th>0</th>\n",
              "      <td>The purpose of this study is to develop a lear...</td>\n",
              "      <td>[Makoto Satoh, Ryo Muramatsu, Mizue Kayama, Ka...</td>\n",
              "      <td>0</td>\n",
              "      <td>[51c7e02e-f5ed-431a-8cf5-f761f266d4be, 69b625b...</td>\n",
              "      <td>Preliminary Design of a Network Protocol Learn...</td>\n",
              "      <td>international conference on human-computer int...</td>\n",
              "      <td>2013</td>\n",
              "      <td>00127ee2-cb05-48ce-bc49-9de556b93346</td>\n",
              "    </tr>\n",
              "    <tr>\n",
              "      <th>1</th>\n",
              "      <td>This paper describes the design and implementa...</td>\n",
              "      <td>[Gareth Beale, Graeme Earl]</td>\n",
              "      <td>50</td>\n",
              "      <td>[10482dd3-4642-4193-842f-85f3b70fcf65, 3133714...</td>\n",
              "      <td>A methodology for the physically accurate visu...</td>\n",
              "      <td>visual analytics science and technology</td>\n",
              "      <td>2011</td>\n",
              "      <td>001c58d3-26ad-46b3-ab3a-c1e557d16821</td>\n",
              "    </tr>\n",
              "    <tr>\n",
              "      <th>2</th>\n",
              "      <td>This article applied GARCH model instead AR or...</td>\n",
              "      <td>[Altaf Hossain, Faisal Zaman, Mohammed Nasser,...</td>\n",
              "      <td>50</td>\n",
              "      <td>[2d84c0f2-e656-4ce7-b018-90eda1c132fe, a083a1b...</td>\n",
              "      <td>Comparison of GARCH, Neural Network and Suppor...</td>\n",
              "      <td>pattern recognition and machine intelligence</td>\n",
              "      <td>2009</td>\n",
              "      <td>001c8744-73c4-4b04-9364-22d31a10dbf1</td>\n",
              "    </tr>\n",
              "    <tr>\n",
              "      <th>3</th>\n",
              "      <td>NaN</td>\n",
              "      <td>[Jea-Bum Park, Byungmok Kim, Jian Shen, Sun-Yo...</td>\n",
              "      <td>0</td>\n",
              "      <td>[8c78e4b0-632b-4293-b491-85b1976675e6, 9cdc54f...</td>\n",
              "      <td>Development of Remote Monitoring and Control D...</td>\n",
              "      <td>NaN</td>\n",
              "      <td>2011</td>\n",
              "      <td>00338203-9eb3-40c5-9f31-cbac73a519ec</td>\n",
              "    </tr>\n",
              "    <tr>\n",
              "      <th>4</th>\n",
              "      <td>NaN</td>\n",
              "      <td>[Giovanna Guerrini, Isabella Merlo]</td>\n",
              "      <td>2</td>\n",
              "      <td>NaN</td>\n",
              "      <td>Reasonig about Set-Oriented Methods in Object ...</td>\n",
              "      <td>NaN</td>\n",
              "      <td>1998</td>\n",
              "      <td>0040b022-1472-4f70-a753-74832df65266</td>\n",
              "    </tr>\n",
              "    <tr>\n",
              "      <th>5</th>\n",
              "      <td>NaN</td>\n",
              "      <td>[Rafael Álvarez, Leandro Tortosa, José-Francis...</td>\n",
              "      <td>0</td>\n",
              "      <td>NaN</td>\n",
              "      <td>COMPARING GNG3D AND QUADRIC ERROR METRICS METH...</td>\n",
              "      <td>international conference on computer graphics ...</td>\n",
              "      <td>2009</td>\n",
              "      <td>005ce28f-ed77-4e97-afdc-a296137186a1</td>\n",
              "    </tr>\n",
              "    <tr>\n",
              "      <th>6</th>\n",
              "      <td>NaN</td>\n",
              "      <td>[Jovan Dj. Golic, Guglielmo Morgari]</td>\n",
              "      <td>2</td>\n",
              "      <td>NaN</td>\n",
              "      <td>Vectorial fast correlation attacks.</td>\n",
              "      <td>NaN</td>\n",
              "      <td>2004</td>\n",
              "      <td>00638a94-23bf-4fa6-b5ce-40d799c65da7</td>\n",
              "    </tr>\n",
              "    <tr>\n",
              "      <th>7</th>\n",
              "      <td>NaN</td>\n",
              "      <td>[Guzin Ulutas, Mustafa Ulutas, Vasif V. Nabiyev]</td>\n",
              "      <td>0</td>\n",
              "      <td>[5626736c-e434-4e2d-8405-54940fab88ab, 8e87e87...</td>\n",
              "      <td>Improved Secret Image Sharing Method By Encodi...</td>\n",
              "      <td>international symposium on computer and inform...</td>\n",
              "      <td>2011</td>\n",
              "      <td>00701b05-684f-45f9-b281-425abfec482c</td>\n",
              "    </tr>\n",
              "    <tr>\n",
              "      <th>8</th>\n",
              "      <td>NaN</td>\n",
              "      <td>[Pranay Chaudhuri, Hussein Thompson]</td>\n",
              "      <td>0</td>\n",
              "      <td>NaN</td>\n",
              "      <td>A Self-Stabilizing Algorithm for Finding the C...</td>\n",
              "      <td>parallel and distributed processing techniques...</td>\n",
              "      <td>2003</td>\n",
              "      <td>00745041-3636-4d18-bbec-783c4278c40d</td>\n",
              "    </tr>\n",
              "    <tr>\n",
              "      <th>9</th>\n",
              "      <td>NaN</td>\n",
              "      <td>[Dominik Szajerman, Adam Jurczyński]</td>\n",
              "      <td>0</td>\n",
              "      <td>[3fcd7cdc-20e6-4ea3-a41c-db126fcc5cfe, bf3a11c...</td>\n",
              "      <td>Fur Visualisation for Computer Game Engines an...</td>\n",
              "      <td>international conference on computer vision an...</td>\n",
              "      <td>2014</td>\n",
              "      <td>00964544-cbe2-4da9-bb5a-03333160eb34</td>\n",
              "    </tr>\n",
              "  </tbody>\n",
              "</table>\n",
              "</div>\n",
              "      <button class=\"colab-df-convert\" onclick=\"convertToInteractive('df-50d14478-33ca-4313-953a-f88735e8f1d2')\"\n",
              "              title=\"Convert this dataframe to an interactive table.\"\n",
              "              style=\"display:none;\">\n",
              "        \n",
              "  <svg xmlns=\"http://www.w3.org/2000/svg\" height=\"24px\"viewBox=\"0 0 24 24\"\n",
              "       width=\"24px\">\n",
              "    <path d=\"M0 0h24v24H0V0z\" fill=\"none\"/>\n",
              "    <path d=\"M18.56 5.44l.94 2.06.94-2.06 2.06-.94-2.06-.94-.94-2.06-.94 2.06-2.06.94zm-11 1L8.5 8.5l.94-2.06 2.06-.94-2.06-.94L8.5 2.5l-.94 2.06-2.06.94zm10 10l.94 2.06.94-2.06 2.06-.94-2.06-.94-.94-2.06-.94 2.06-2.06.94z\"/><path d=\"M17.41 7.96l-1.37-1.37c-.4-.4-.92-.59-1.43-.59-.52 0-1.04.2-1.43.59L10.3 9.45l-7.72 7.72c-.78.78-.78 2.05 0 2.83L4 21.41c.39.39.9.59 1.41.59.51 0 1.02-.2 1.41-.59l7.78-7.78 2.81-2.81c.8-.78.8-2.07 0-2.86zM5.41 20L4 18.59l7.72-7.72 1.47 1.35L5.41 20z\"/>\n",
              "  </svg>\n",
              "      </button>\n",
              "      \n",
              "  <style>\n",
              "    .colab-df-container {\n",
              "      display:flex;\n",
              "      flex-wrap:wrap;\n",
              "      gap: 12px;\n",
              "    }\n",
              "\n",
              "    .colab-df-convert {\n",
              "      background-color: #E8F0FE;\n",
              "      border: none;\n",
              "      border-radius: 50%;\n",
              "      cursor: pointer;\n",
              "      display: none;\n",
              "      fill: #1967D2;\n",
              "      height: 32px;\n",
              "      padding: 0 0 0 0;\n",
              "      width: 32px;\n",
              "    }\n",
              "\n",
              "    .colab-df-convert:hover {\n",
              "      background-color: #E2EBFA;\n",
              "      box-shadow: 0px 1px 2px rgba(60, 64, 67, 0.3), 0px 1px 3px 1px rgba(60, 64, 67, 0.15);\n",
              "      fill: #174EA6;\n",
              "    }\n",
              "\n",
              "    [theme=dark] .colab-df-convert {\n",
              "      background-color: #3B4455;\n",
              "      fill: #D2E3FC;\n",
              "    }\n",
              "\n",
              "    [theme=dark] .colab-df-convert:hover {\n",
              "      background-color: #434B5C;\n",
              "      box-shadow: 0px 1px 3px 1px rgba(0, 0, 0, 0.15);\n",
              "      filter: drop-shadow(0px 1px 2px rgba(0, 0, 0, 0.3));\n",
              "      fill: #FFFFFF;\n",
              "    }\n",
              "  </style>\n",
              "\n",
              "      <script>\n",
              "        const buttonEl =\n",
              "          document.querySelector('#df-50d14478-33ca-4313-953a-f88735e8f1d2 button.colab-df-convert');\n",
              "        buttonEl.style.display =\n",
              "          google.colab.kernel.accessAllowed ? 'block' : 'none';\n",
              "\n",
              "        async function convertToInteractive(key) {\n",
              "          const element = document.querySelector('#df-50d14478-33ca-4313-953a-f88735e8f1d2');\n",
              "          const dataTable =\n",
              "            await google.colab.kernel.invokeFunction('convertToInteractive',\n",
              "                                                     [key], {});\n",
              "          if (!dataTable) return;\n",
              "\n",
              "          const docLinkHtml = 'Like what you see? Visit the ' +\n",
              "            '<a target=\"_blank\" href=https://colab.research.google.com/notebooks/data_table.ipynb>data table notebook</a>'\n",
              "            + ' to learn more about interactive tables.';\n",
              "          element.innerHTML = '';\n",
              "          dataTable['output_type'] = 'display_data';\n",
              "          await google.colab.output.renderOutput(dataTable, element);\n",
              "          const docLink = document.createElement('div');\n",
              "          docLink.innerHTML = docLinkHtml;\n",
              "          element.appendChild(docLink);\n",
              "        }\n",
              "      </script>\n",
              "    </div>\n",
              "  </div>\n",
              "  "
            ]
          },
          "metadata": {},
          "execution_count": 120
        }
      ],
      "source": [
        "df_combined.head(10)"
      ]
    },
    {
      "cell_type": "code",
      "execution_count": null,
      "metadata": {
        "colab": {
          "base_uri": "https://localhost:8080/"
        },
        "id": "Q0-7ek58iQCm",
        "outputId": "c0e5432b-5a99-4193-ee65-c6b45bc90c52"
      },
      "outputs": [
        {
          "output_type": "stream",
          "name": "stdout",
          "text": [
            "Maximum no of Paper is presented in the year 2016 = 43\n"
          ]
        }
      ],
      "source": [
        "u = df_combined['year'].unique()\n",
        "paper_year = {}\n",
        "for year in u:\n",
        "  paper_year[year] = df_combined[df_combined['year']==year].shape[0]\n",
        "  # print(f\"total number paper in year= {year}\",df_combined[df_combined['year']==year].shape[0])\n",
        "max_value = max(paper_year, key=paper_year.get)\n",
        "for key, val in paper_year.items():\n",
        "  max_value = max(paper_year, key=paper_year.get)\n",
        "print(f\"Maximum no of Paper is presented in the year {max_value} = {paper_year[max_value]}\")"
      ]
    },
    {
      "cell_type": "markdown",
      "metadata": {
        "id": "ygACtHndhugj"
      },
      "source": [
        "**There is no need of abstract column for our analysis**"
      ]
    },
    {
      "cell_type": "code",
      "execution_count": null,
      "metadata": {
        "colab": {
          "base_uri": "https://localhost:8080/"
        },
        "id": "5S3JNAY7hYaa",
        "outputId": "7677a6ef-c6de-4cc4-e4fd-26b93a0e391c"
      },
      "outputs": [
        {
          "output_type": "execute_result",
          "data": {
            "text/plain": [
              "Index(['abstract', 'authors', 'n_citation', 'references', 'title', 'venue',\n",
              "       'year', 'id'],\n",
              "      dtype='object')"
            ]
          },
          "metadata": {},
          "execution_count": 122
        }
      ],
      "source": [
        "df_combined.columns"
      ]
    },
    {
      "cell_type": "code",
      "execution_count": null,
      "metadata": {
        "colab": {
          "base_uri": "https://localhost:8080/",
          "height": 337
        },
        "id": "g0CLF7VDwZiQ",
        "outputId": "67d9cc4a-1c31-408b-8220-d1f4b80f7727"
      },
      "outputs": [
        {
          "output_type": "execute_result",
          "data": {
            "text/plain": [
              "                                             authors  n_citation  \\\n",
              "0  [Makoto Satoh, Ryo Muramatsu, Mizue Kayama, Ka...           0   \n",
              "1                        [Gareth Beale, Graeme Earl]          50   \n",
              "2  [Altaf Hossain, Faisal Zaman, Mohammed Nasser,...          50   \n",
              "3  [Jea-Bum Park, Byungmok Kim, Jian Shen, Sun-Yo...           0   \n",
              "4                [Giovanna Guerrini, Isabella Merlo]           2   \n",
              "\n",
              "                                          references  \\\n",
              "0  [51c7e02e-f5ed-431a-8cf5-f761f266d4be, 69b625b...   \n",
              "1  [10482dd3-4642-4193-842f-85f3b70fcf65, 3133714...   \n",
              "2  [2d84c0f2-e656-4ce7-b018-90eda1c132fe, a083a1b...   \n",
              "3  [8c78e4b0-632b-4293-b491-85b1976675e6, 9cdc54f...   \n",
              "4                                                NaN   \n",
              "\n",
              "                                               title  \\\n",
              "0  Preliminary Design of a Network Protocol Learn...   \n",
              "1  A methodology for the physically accurate visu...   \n",
              "2  Comparison of GARCH, Neural Network and Suppor...   \n",
              "3  Development of Remote Monitoring and Control D...   \n",
              "4  Reasonig about Set-Oriented Methods in Object ...   \n",
              "\n",
              "                                               venue  year  \\\n",
              "0  international conference on human-computer int...  2013   \n",
              "1            visual analytics science and technology  2011   \n",
              "2       pattern recognition and machine intelligence  2009   \n",
              "3                                                NaN  2011   \n",
              "4                                                NaN  1998   \n",
              "\n",
              "                                     id  \n",
              "0  00127ee2-cb05-48ce-bc49-9de556b93346  \n",
              "1  001c58d3-26ad-46b3-ab3a-c1e557d16821  \n",
              "2  001c8744-73c4-4b04-9364-22d31a10dbf1  \n",
              "3  00338203-9eb3-40c5-9f31-cbac73a519ec  \n",
              "4  0040b022-1472-4f70-a753-74832df65266  "
            ],
            "text/html": [
              "\n",
              "  <div id=\"df-3259ca3c-173c-4215-a233-bbc76df0a570\">\n",
              "    <div class=\"colab-df-container\">\n",
              "      <div>\n",
              "<style scoped>\n",
              "    .dataframe tbody tr th:only-of-type {\n",
              "        vertical-align: middle;\n",
              "    }\n",
              "\n",
              "    .dataframe tbody tr th {\n",
              "        vertical-align: top;\n",
              "    }\n",
              "\n",
              "    .dataframe thead th {\n",
              "        text-align: right;\n",
              "    }\n",
              "</style>\n",
              "<table border=\"1\" class=\"dataframe\">\n",
              "  <thead>\n",
              "    <tr style=\"text-align: right;\">\n",
              "      <th></th>\n",
              "      <th>authors</th>\n",
              "      <th>n_citation</th>\n",
              "      <th>references</th>\n",
              "      <th>title</th>\n",
              "      <th>venue</th>\n",
              "      <th>year</th>\n",
              "      <th>id</th>\n",
              "    </tr>\n",
              "  </thead>\n",
              "  <tbody>\n",
              "    <tr>\n",
              "      <th>0</th>\n",
              "      <td>[Makoto Satoh, Ryo Muramatsu, Mizue Kayama, Ka...</td>\n",
              "      <td>0</td>\n",
              "      <td>[51c7e02e-f5ed-431a-8cf5-f761f266d4be, 69b625b...</td>\n",
              "      <td>Preliminary Design of a Network Protocol Learn...</td>\n",
              "      <td>international conference on human-computer int...</td>\n",
              "      <td>2013</td>\n",
              "      <td>00127ee2-cb05-48ce-bc49-9de556b93346</td>\n",
              "    </tr>\n",
              "    <tr>\n",
              "      <th>1</th>\n",
              "      <td>[Gareth Beale, Graeme Earl]</td>\n",
              "      <td>50</td>\n",
              "      <td>[10482dd3-4642-4193-842f-85f3b70fcf65, 3133714...</td>\n",
              "      <td>A methodology for the physically accurate visu...</td>\n",
              "      <td>visual analytics science and technology</td>\n",
              "      <td>2011</td>\n",
              "      <td>001c58d3-26ad-46b3-ab3a-c1e557d16821</td>\n",
              "    </tr>\n",
              "    <tr>\n",
              "      <th>2</th>\n",
              "      <td>[Altaf Hossain, Faisal Zaman, Mohammed Nasser,...</td>\n",
              "      <td>50</td>\n",
              "      <td>[2d84c0f2-e656-4ce7-b018-90eda1c132fe, a083a1b...</td>\n",
              "      <td>Comparison of GARCH, Neural Network and Suppor...</td>\n",
              "      <td>pattern recognition and machine intelligence</td>\n",
              "      <td>2009</td>\n",
              "      <td>001c8744-73c4-4b04-9364-22d31a10dbf1</td>\n",
              "    </tr>\n",
              "    <tr>\n",
              "      <th>3</th>\n",
              "      <td>[Jea-Bum Park, Byungmok Kim, Jian Shen, Sun-Yo...</td>\n",
              "      <td>0</td>\n",
              "      <td>[8c78e4b0-632b-4293-b491-85b1976675e6, 9cdc54f...</td>\n",
              "      <td>Development of Remote Monitoring and Control D...</td>\n",
              "      <td>NaN</td>\n",
              "      <td>2011</td>\n",
              "      <td>00338203-9eb3-40c5-9f31-cbac73a519ec</td>\n",
              "    </tr>\n",
              "    <tr>\n",
              "      <th>4</th>\n",
              "      <td>[Giovanna Guerrini, Isabella Merlo]</td>\n",
              "      <td>2</td>\n",
              "      <td>NaN</td>\n",
              "      <td>Reasonig about Set-Oriented Methods in Object ...</td>\n",
              "      <td>NaN</td>\n",
              "      <td>1998</td>\n",
              "      <td>0040b022-1472-4f70-a753-74832df65266</td>\n",
              "    </tr>\n",
              "  </tbody>\n",
              "</table>\n",
              "</div>\n",
              "      <button class=\"colab-df-convert\" onclick=\"convertToInteractive('df-3259ca3c-173c-4215-a233-bbc76df0a570')\"\n",
              "              title=\"Convert this dataframe to an interactive table.\"\n",
              "              style=\"display:none;\">\n",
              "        \n",
              "  <svg xmlns=\"http://www.w3.org/2000/svg\" height=\"24px\"viewBox=\"0 0 24 24\"\n",
              "       width=\"24px\">\n",
              "    <path d=\"M0 0h24v24H0V0z\" fill=\"none\"/>\n",
              "    <path d=\"M18.56 5.44l.94 2.06.94-2.06 2.06-.94-2.06-.94-.94-2.06-.94 2.06-2.06.94zm-11 1L8.5 8.5l.94-2.06 2.06-.94-2.06-.94L8.5 2.5l-.94 2.06-2.06.94zm10 10l.94 2.06.94-2.06 2.06-.94-2.06-.94-.94-2.06-.94 2.06-2.06.94z\"/><path d=\"M17.41 7.96l-1.37-1.37c-.4-.4-.92-.59-1.43-.59-.52 0-1.04.2-1.43.59L10.3 9.45l-7.72 7.72c-.78.78-.78 2.05 0 2.83L4 21.41c.39.39.9.59 1.41.59.51 0 1.02-.2 1.41-.59l7.78-7.78 2.81-2.81c.8-.78.8-2.07 0-2.86zM5.41 20L4 18.59l7.72-7.72 1.47 1.35L5.41 20z\"/>\n",
              "  </svg>\n",
              "      </button>\n",
              "      \n",
              "  <style>\n",
              "    .colab-df-container {\n",
              "      display:flex;\n",
              "      flex-wrap:wrap;\n",
              "      gap: 12px;\n",
              "    }\n",
              "\n",
              "    .colab-df-convert {\n",
              "      background-color: #E8F0FE;\n",
              "      border: none;\n",
              "      border-radius: 50%;\n",
              "      cursor: pointer;\n",
              "      display: none;\n",
              "      fill: #1967D2;\n",
              "      height: 32px;\n",
              "      padding: 0 0 0 0;\n",
              "      width: 32px;\n",
              "    }\n",
              "\n",
              "    .colab-df-convert:hover {\n",
              "      background-color: #E2EBFA;\n",
              "      box-shadow: 0px 1px 2px rgba(60, 64, 67, 0.3), 0px 1px 3px 1px rgba(60, 64, 67, 0.15);\n",
              "      fill: #174EA6;\n",
              "    }\n",
              "\n",
              "    [theme=dark] .colab-df-convert {\n",
              "      background-color: #3B4455;\n",
              "      fill: #D2E3FC;\n",
              "    }\n",
              "\n",
              "    [theme=dark] .colab-df-convert:hover {\n",
              "      background-color: #434B5C;\n",
              "      box-shadow: 0px 1px 3px 1px rgba(0, 0, 0, 0.15);\n",
              "      filter: drop-shadow(0px 1px 2px rgba(0, 0, 0, 0.3));\n",
              "      fill: #FFFFFF;\n",
              "    }\n",
              "  </style>\n",
              "\n",
              "      <script>\n",
              "        const buttonEl =\n",
              "          document.querySelector('#df-3259ca3c-173c-4215-a233-bbc76df0a570 button.colab-df-convert');\n",
              "        buttonEl.style.display =\n",
              "          google.colab.kernel.accessAllowed ? 'block' : 'none';\n",
              "\n",
              "        async function convertToInteractive(key) {\n",
              "          const element = document.querySelector('#df-3259ca3c-173c-4215-a233-bbc76df0a570');\n",
              "          const dataTable =\n",
              "            await google.colab.kernel.invokeFunction('convertToInteractive',\n",
              "                                                     [key], {});\n",
              "          if (!dataTable) return;\n",
              "\n",
              "          const docLinkHtml = 'Like what you see? Visit the ' +\n",
              "            '<a target=\"_blank\" href=https://colab.research.google.com/notebooks/data_table.ipynb>data table notebook</a>'\n",
              "            + ' to learn more about interactive tables.';\n",
              "          element.innerHTML = '';\n",
              "          dataTable['output_type'] = 'display_data';\n",
              "          await google.colab.output.renderOutput(dataTable, element);\n",
              "          const docLink = document.createElement('div');\n",
              "          docLink.innerHTML = docLinkHtml;\n",
              "          element.appendChild(docLink);\n",
              "        }\n",
              "      </script>\n",
              "    </div>\n",
              "  </div>\n",
              "  "
            ]
          },
          "metadata": {},
          "execution_count": 123
        }
      ],
      "source": [
        "#Dropping abstract column\n",
        "df_combined.drop(['abstract'], axis=1, inplace = True)\n",
        "df_combined.head(5)"
      ]
    },
    {
      "cell_type": "markdown",
      "metadata": {
        "id": "NA24Xe2AT088"
      },
      "source": [
        "**Taking the sample for further Analysis**"
      ]
    },
    {
      "cell_type": "code",
      "execution_count": null,
      "metadata": {
        "id": "nlHe9oc3Xfb2"
      },
      "outputs": [],
      "source": [
        "sample_size = 5"
      ]
    },
    {
      "cell_type": "code",
      "execution_count": null,
      "metadata": {
        "colab": {
          "base_uri": "https://localhost:8080/",
          "height": 337
        },
        "id": "N_hFrUQAT47D",
        "outputId": "eb8ac74b-8027-4590-b9d4-6e9ee5c8de70"
      },
      "outputs": [
        {
          "output_type": "execute_result",
          "data": {
            "text/plain": [
              "                                              authors  n_citation  \\\n",
              "87  [Russell A. Poldrack, Paul C. Fletcher, Richar...         288   \n",
              "80                    [Jack Rogers, Matthew H. Davis]           0   \n",
              "47                              [Wei Wang, Wei Zhang]           0   \n",
              "93                [Wenju Li, Kaixue Ma, Shouxian Mou]           0   \n",
              "51                                   [Mark Northover]          50   \n",
              "\n",
              "                                           references  \\\n",
              "87                                                 []   \n",
              "80  [246bc37a-1ac5-415b-9e43-9be781df59db, 2470f8c...   \n",
              "47  [19392837-7972-4aa7-a860-d6c90458f7b8, 4f48b37...   \n",
              "93                                                 []   \n",
              "51             [382b7b47-1cd7-4236-8457-42c3e527f1f2]   \n",
              "\n",
              "                                                title  \\\n",
              "87             Guidelines for reporting an fMRI study   \n",
              "80  Inferior Frontal Cortex Contributions to the R...   \n",
              "47   Adaptive Spatial Modulation Using Huffman Coding   \n",
              "93  A Ku-band high-isolation SPDT switch in 0.35um...   \n",
              "51          Online discussion boards - friend or foe?   \n",
              "\n",
              "                                venue  year  \\\n",
              "87                         NeuroImage  2008   \n",
              "80  Journal of Cognitive Neuroscience  2017   \n",
              "47   global communications conference  2016   \n",
              "93                                NaN  2016   \n",
              "51                                NaN  2002   \n",
              "\n",
              "                                      id  \n",
              "87  4ab9b413-e370-4bde-87e4-046e10458f0b  \n",
              "80  1032c089-6dc4-40b7-bfe3-fec28c7d358d  \n",
              "47  0a13520f-b058-43ff-ad3b-5e292422887e  \n",
              "93  144ca465-2ce0-47d5-9588-54df33b83536  \n",
              "51  02ad7019-1c4c-4a23-85ac-086e4cfcfcb2  "
            ],
            "text/html": [
              "\n",
              "  <div id=\"df-ed61dc89-b3b3-4b5f-9b46-fea4230225d7\">\n",
              "    <div class=\"colab-df-container\">\n",
              "      <div>\n",
              "<style scoped>\n",
              "    .dataframe tbody tr th:only-of-type {\n",
              "        vertical-align: middle;\n",
              "    }\n",
              "\n",
              "    .dataframe tbody tr th {\n",
              "        vertical-align: top;\n",
              "    }\n",
              "\n",
              "    .dataframe thead th {\n",
              "        text-align: right;\n",
              "    }\n",
              "</style>\n",
              "<table border=\"1\" class=\"dataframe\">\n",
              "  <thead>\n",
              "    <tr style=\"text-align: right;\">\n",
              "      <th></th>\n",
              "      <th>authors</th>\n",
              "      <th>n_citation</th>\n",
              "      <th>references</th>\n",
              "      <th>title</th>\n",
              "      <th>venue</th>\n",
              "      <th>year</th>\n",
              "      <th>id</th>\n",
              "    </tr>\n",
              "  </thead>\n",
              "  <tbody>\n",
              "    <tr>\n",
              "      <th>87</th>\n",
              "      <td>[Russell A. Poldrack, Paul C. Fletcher, Richar...</td>\n",
              "      <td>288</td>\n",
              "      <td>[]</td>\n",
              "      <td>Guidelines for reporting an fMRI study</td>\n",
              "      <td>NeuroImage</td>\n",
              "      <td>2008</td>\n",
              "      <td>4ab9b413-e370-4bde-87e4-046e10458f0b</td>\n",
              "    </tr>\n",
              "    <tr>\n",
              "      <th>80</th>\n",
              "      <td>[Jack Rogers, Matthew H. Davis]</td>\n",
              "      <td>0</td>\n",
              "      <td>[246bc37a-1ac5-415b-9e43-9be781df59db, 2470f8c...</td>\n",
              "      <td>Inferior Frontal Cortex Contributions to the R...</td>\n",
              "      <td>Journal of Cognitive Neuroscience</td>\n",
              "      <td>2017</td>\n",
              "      <td>1032c089-6dc4-40b7-bfe3-fec28c7d358d</td>\n",
              "    </tr>\n",
              "    <tr>\n",
              "      <th>47</th>\n",
              "      <td>[Wei Wang, Wei Zhang]</td>\n",
              "      <td>0</td>\n",
              "      <td>[19392837-7972-4aa7-a860-d6c90458f7b8, 4f48b37...</td>\n",
              "      <td>Adaptive Spatial Modulation Using Huffman Coding</td>\n",
              "      <td>global communications conference</td>\n",
              "      <td>2016</td>\n",
              "      <td>0a13520f-b058-43ff-ad3b-5e292422887e</td>\n",
              "    </tr>\n",
              "    <tr>\n",
              "      <th>93</th>\n",
              "      <td>[Wenju Li, Kaixue Ma, Shouxian Mou]</td>\n",
              "      <td>0</td>\n",
              "      <td>[]</td>\n",
              "      <td>A Ku-band high-isolation SPDT switch in 0.35um...</td>\n",
              "      <td>NaN</td>\n",
              "      <td>2016</td>\n",
              "      <td>144ca465-2ce0-47d5-9588-54df33b83536</td>\n",
              "    </tr>\n",
              "    <tr>\n",
              "      <th>51</th>\n",
              "      <td>[Mark Northover]</td>\n",
              "      <td>50</td>\n",
              "      <td>[382b7b47-1cd7-4236-8457-42c3e527f1f2]</td>\n",
              "      <td>Online discussion boards - friend or foe?</td>\n",
              "      <td>NaN</td>\n",
              "      <td>2002</td>\n",
              "      <td>02ad7019-1c4c-4a23-85ac-086e4cfcfcb2</td>\n",
              "    </tr>\n",
              "  </tbody>\n",
              "</table>\n",
              "</div>\n",
              "      <button class=\"colab-df-convert\" onclick=\"convertToInteractive('df-ed61dc89-b3b3-4b5f-9b46-fea4230225d7')\"\n",
              "              title=\"Convert this dataframe to an interactive table.\"\n",
              "              style=\"display:none;\">\n",
              "        \n",
              "  <svg xmlns=\"http://www.w3.org/2000/svg\" height=\"24px\"viewBox=\"0 0 24 24\"\n",
              "       width=\"24px\">\n",
              "    <path d=\"M0 0h24v24H0V0z\" fill=\"none\"/>\n",
              "    <path d=\"M18.56 5.44l.94 2.06.94-2.06 2.06-.94-2.06-.94-.94-2.06-.94 2.06-2.06.94zm-11 1L8.5 8.5l.94-2.06 2.06-.94-2.06-.94L8.5 2.5l-.94 2.06-2.06.94zm10 10l.94 2.06.94-2.06 2.06-.94-2.06-.94-.94-2.06-.94 2.06-2.06.94z\"/><path d=\"M17.41 7.96l-1.37-1.37c-.4-.4-.92-.59-1.43-.59-.52 0-1.04.2-1.43.59L10.3 9.45l-7.72 7.72c-.78.78-.78 2.05 0 2.83L4 21.41c.39.39.9.59 1.41.59.51 0 1.02-.2 1.41-.59l7.78-7.78 2.81-2.81c.8-.78.8-2.07 0-2.86zM5.41 20L4 18.59l7.72-7.72 1.47 1.35L5.41 20z\"/>\n",
              "  </svg>\n",
              "      </button>\n",
              "      \n",
              "  <style>\n",
              "    .colab-df-container {\n",
              "      display:flex;\n",
              "      flex-wrap:wrap;\n",
              "      gap: 12px;\n",
              "    }\n",
              "\n",
              "    .colab-df-convert {\n",
              "      background-color: #E8F0FE;\n",
              "      border: none;\n",
              "      border-radius: 50%;\n",
              "      cursor: pointer;\n",
              "      display: none;\n",
              "      fill: #1967D2;\n",
              "      height: 32px;\n",
              "      padding: 0 0 0 0;\n",
              "      width: 32px;\n",
              "    }\n",
              "\n",
              "    .colab-df-convert:hover {\n",
              "      background-color: #E2EBFA;\n",
              "      box-shadow: 0px 1px 2px rgba(60, 64, 67, 0.3), 0px 1px 3px 1px rgba(60, 64, 67, 0.15);\n",
              "      fill: #174EA6;\n",
              "    }\n",
              "\n",
              "    [theme=dark] .colab-df-convert {\n",
              "      background-color: #3B4455;\n",
              "      fill: #D2E3FC;\n",
              "    }\n",
              "\n",
              "    [theme=dark] .colab-df-convert:hover {\n",
              "      background-color: #434B5C;\n",
              "      box-shadow: 0px 1px 3px 1px rgba(0, 0, 0, 0.15);\n",
              "      filter: drop-shadow(0px 1px 2px rgba(0, 0, 0, 0.3));\n",
              "      fill: #FFFFFF;\n",
              "    }\n",
              "  </style>\n",
              "\n",
              "      <script>\n",
              "        const buttonEl =\n",
              "          document.querySelector('#df-ed61dc89-b3b3-4b5f-9b46-fea4230225d7 button.colab-df-convert');\n",
              "        buttonEl.style.display =\n",
              "          google.colab.kernel.accessAllowed ? 'block' : 'none';\n",
              "\n",
              "        async function convertToInteractive(key) {\n",
              "          const element = document.querySelector('#df-ed61dc89-b3b3-4b5f-9b46-fea4230225d7');\n",
              "          const dataTable =\n",
              "            await google.colab.kernel.invokeFunction('convertToInteractive',\n",
              "                                                     [key], {});\n",
              "          if (!dataTable) return;\n",
              "\n",
              "          const docLinkHtml = 'Like what you see? Visit the ' +\n",
              "            '<a target=\"_blank\" href=https://colab.research.google.com/notebooks/data_table.ipynb>data table notebook</a>'\n",
              "            + ' to learn more about interactive tables.';\n",
              "          element.innerHTML = '';\n",
              "          dataTable['output_type'] = 'display_data';\n",
              "          await google.colab.output.renderOutput(dataTable, element);\n",
              "          const docLink = document.createElement('div');\n",
              "          docLink.innerHTML = docLinkHtml;\n",
              "          element.appendChild(docLink);\n",
              "        }\n",
              "      </script>\n",
              "    </div>\n",
              "  </div>\n",
              "  "
            ]
          },
          "metadata": {},
          "execution_count": 125
        }
      ],
      "source": [
        "df_sample = df_combined.sample(sample_size, random_state = 30071998)\n",
        "df_sample"
      ]
    },
    {
      "cell_type": "code",
      "execution_count": null,
      "metadata": {
        "id": "wLTcNH61_M9o"
      },
      "outputs": [],
      "source": [
        "# df_sample = df_combined.iloc[:sample_size]"
      ]
    },
    {
      "cell_type": "markdown",
      "metadata": {
        "id": "DkBCLZVviQkW"
      },
      "source": [
        "**For checking which all authors were involved in different papers. So that we could check our graph is correct or not.**"
      ]
    },
    {
      "cell_type": "markdown",
      "metadata": {
        "id": "ncP99V60xOZH"
      },
      "source": [
        "# Analysis 3b"
      ]
    },
    {
      "cell_type": "code",
      "execution_count": null,
      "metadata": {
        "colab": {
          "base_uri": "https://localhost:8080/"
        },
        "id": "0jpP_KE5ZuDz",
        "outputId": "0c124802-36b7-4a40-a9f6-8fbb0f59afb8"
      },
      "outputs": [
        {
          "output_type": "execute_result",
          "data": {
            "text/plain": [
              "{}"
            ]
          },
          "metadata": {},
          "execution_count": 127
        }
      ],
      "source": [
        "a = df_sample['authors'].explode().tolist()\n",
        "R_a = {}                                    # R_a --- Repeating authors\n",
        "f_d = {p:a.count(p) for p in a}             #f_d --- Frequency Dictionary\n",
        "for key, val in f_d.items():\n",
        "  if val > 1:\n",
        "    R_a[key] = val\n",
        "  else:\n",
        "    pass\n",
        "R_a                         #Will return the no of Repeated Authors in different papers with the no of times he is repeated"
      ]
    },
    {
      "cell_type": "code",
      "execution_count": null,
      "metadata": {
        "colab": {
          "base_uri": "https://localhost:8080/"
        },
        "id": "4z2YKxy6w05O",
        "outputId": "9830c5c1-92d0-468e-a6ad-5186edaf95a2"
      },
      "outputs": [
        {
          "output_type": "execute_result",
          "data": {
            "text/plain": [
              "[]"
            ]
          },
          "metadata": {},
          "execution_count": 128
        }
      ],
      "source": [
        "max_author = sorted(R_a, key=R_a.get, reverse=True)[:5]\n",
        "max_author"
      ]
    },
    {
      "cell_type": "markdown",
      "metadata": {
        "id": "ZzfDCAp8jUZ1"
      },
      "source": [
        "**Pre Processing for Known Author Graph For Analysis 2**"
      ]
    },
    {
      "cell_type": "code",
      "execution_count": null,
      "metadata": {
        "colab": {
          "base_uri": "https://localhost:8080/"
        },
        "id": "UBSJBQVlhmRV",
        "outputId": "71b964b2-a446-4c92-d0cc-47486f7d7ddc"
      },
      "outputs": [
        {
          "output_type": "stream",
          "name": "stdout",
          "text": [
            "14\n"
          ]
        }
      ],
      "source": [
        "# Taking out the unique values in authors column\n",
        "Unique_authors = df_sample['authors'].explode().unique()\n",
        "print(len(Unique_authors))"
      ]
    },
    {
      "cell_type": "code",
      "execution_count": null,
      "metadata": {
        "id": "AUCQaOwcjkHL"
      },
      "outputs": [],
      "source": [
        "#Changing the format of unique authors so that they can plotted in the graph easily.\n",
        "author_format = ['A{}'.format(i) for i in range(1,len(Unique_authors)+1)]"
      ]
    },
    {
      "cell_type": "markdown",
      "metadata": {
        "id": "P_TieI-pr1gC"
      },
      "source": [
        "**Author reference dictionary for identifying the author that he/she is mapped too**"
      ]
    },
    {
      "cell_type": "code",
      "execution_count": null,
      "metadata": {
        "id": "gk7Tx2gxhyrt"
      },
      "outputs": [],
      "source": [
        "#Combining the unique authors with the author format \n",
        "author_dic = dict(zip(Unique_authors,author_format))"
      ]
    },
    {
      "cell_type": "code",
      "execution_count": null,
      "metadata": {
        "colab": {
          "base_uri": "https://localhost:8080/",
          "height": 337
        },
        "id": "Xpr1f3IBh7dS",
        "outputId": "828c97f8-1d72-4177-b6e7-b61ac7038cd5"
      },
      "outputs": [
        {
          "output_type": "execute_result",
          "data": {
            "text/plain": [
              "                                              authors  n_citation  \\\n",
              "87  [Russell A. Poldrack, Paul C. Fletcher, Richar...         288   \n",
              "80                    [Jack Rogers, Matthew H. Davis]           0   \n",
              "47                              [Wei Wang, Wei Zhang]           0   \n",
              "93                [Wenju Li, Kaixue Ma, Shouxian Mou]           0   \n",
              "51                                   [Mark Northover]          50   \n",
              "\n",
              "                                           references  \\\n",
              "87                                                 []   \n",
              "80  [246bc37a-1ac5-415b-9e43-9be781df59db, 2470f8c...   \n",
              "47  [19392837-7972-4aa7-a860-d6c90458f7b8, 4f48b37...   \n",
              "93                                                 []   \n",
              "51             [382b7b47-1cd7-4236-8457-42c3e527f1f2]   \n",
              "\n",
              "                                                title  \\\n",
              "87             Guidelines for reporting an fMRI study   \n",
              "80  Inferior Frontal Cortex Contributions to the R...   \n",
              "47   Adaptive Spatial Modulation Using Huffman Coding   \n",
              "93  A Ku-band high-isolation SPDT switch in 0.35um...   \n",
              "51          Online discussion boards - friend or foe?   \n",
              "\n",
              "                                venue  year  \\\n",
              "87                         NeuroImage  2008   \n",
              "80  Journal of Cognitive Neuroscience  2017   \n",
              "47   global communications conference  2016   \n",
              "93                                NaN  2016   \n",
              "51                                NaN  2002   \n",
              "\n",
              "                                      id            Author_cleaned  \n",
              "87  4ab9b413-e370-4bde-87e4-046e10458f0b  [A1, A2, A3, A4, A5, A6]  \n",
              "80  1032c089-6dc4-40b7-bfe3-fec28c7d358d                  [A7, A8]  \n",
              "47  0a13520f-b058-43ff-ad3b-5e292422887e                 [A9, A10]  \n",
              "93  144ca465-2ce0-47d5-9588-54df33b83536           [A11, A12, A13]  \n",
              "51  02ad7019-1c4c-4a23-85ac-086e4cfcfcb2                     [A14]  "
            ],
            "text/html": [
              "\n",
              "  <div id=\"df-6f564b11-32bf-4cae-9246-62ec7d768036\">\n",
              "    <div class=\"colab-df-container\">\n",
              "      <div>\n",
              "<style scoped>\n",
              "    .dataframe tbody tr th:only-of-type {\n",
              "        vertical-align: middle;\n",
              "    }\n",
              "\n",
              "    .dataframe tbody tr th {\n",
              "        vertical-align: top;\n",
              "    }\n",
              "\n",
              "    .dataframe thead th {\n",
              "        text-align: right;\n",
              "    }\n",
              "</style>\n",
              "<table border=\"1\" class=\"dataframe\">\n",
              "  <thead>\n",
              "    <tr style=\"text-align: right;\">\n",
              "      <th></th>\n",
              "      <th>authors</th>\n",
              "      <th>n_citation</th>\n",
              "      <th>references</th>\n",
              "      <th>title</th>\n",
              "      <th>venue</th>\n",
              "      <th>year</th>\n",
              "      <th>id</th>\n",
              "      <th>Author_cleaned</th>\n",
              "    </tr>\n",
              "  </thead>\n",
              "  <tbody>\n",
              "    <tr>\n",
              "      <th>87</th>\n",
              "      <td>[Russell A. Poldrack, Paul C. Fletcher, Richar...</td>\n",
              "      <td>288</td>\n",
              "      <td>[]</td>\n",
              "      <td>Guidelines for reporting an fMRI study</td>\n",
              "      <td>NeuroImage</td>\n",
              "      <td>2008</td>\n",
              "      <td>4ab9b413-e370-4bde-87e4-046e10458f0b</td>\n",
              "      <td>[A1, A2, A3, A4, A5, A6]</td>\n",
              "    </tr>\n",
              "    <tr>\n",
              "      <th>80</th>\n",
              "      <td>[Jack Rogers, Matthew H. Davis]</td>\n",
              "      <td>0</td>\n",
              "      <td>[246bc37a-1ac5-415b-9e43-9be781df59db, 2470f8c...</td>\n",
              "      <td>Inferior Frontal Cortex Contributions to the R...</td>\n",
              "      <td>Journal of Cognitive Neuroscience</td>\n",
              "      <td>2017</td>\n",
              "      <td>1032c089-6dc4-40b7-bfe3-fec28c7d358d</td>\n",
              "      <td>[A7, A8]</td>\n",
              "    </tr>\n",
              "    <tr>\n",
              "      <th>47</th>\n",
              "      <td>[Wei Wang, Wei Zhang]</td>\n",
              "      <td>0</td>\n",
              "      <td>[19392837-7972-4aa7-a860-d6c90458f7b8, 4f48b37...</td>\n",
              "      <td>Adaptive Spatial Modulation Using Huffman Coding</td>\n",
              "      <td>global communications conference</td>\n",
              "      <td>2016</td>\n",
              "      <td>0a13520f-b058-43ff-ad3b-5e292422887e</td>\n",
              "      <td>[A9, A10]</td>\n",
              "    </tr>\n",
              "    <tr>\n",
              "      <th>93</th>\n",
              "      <td>[Wenju Li, Kaixue Ma, Shouxian Mou]</td>\n",
              "      <td>0</td>\n",
              "      <td>[]</td>\n",
              "      <td>A Ku-band high-isolation SPDT switch in 0.35um...</td>\n",
              "      <td>NaN</td>\n",
              "      <td>2016</td>\n",
              "      <td>144ca465-2ce0-47d5-9588-54df33b83536</td>\n",
              "      <td>[A11, A12, A13]</td>\n",
              "    </tr>\n",
              "    <tr>\n",
              "      <th>51</th>\n",
              "      <td>[Mark Northover]</td>\n",
              "      <td>50</td>\n",
              "      <td>[382b7b47-1cd7-4236-8457-42c3e527f1f2]</td>\n",
              "      <td>Online discussion boards - friend or foe?</td>\n",
              "      <td>NaN</td>\n",
              "      <td>2002</td>\n",
              "      <td>02ad7019-1c4c-4a23-85ac-086e4cfcfcb2</td>\n",
              "      <td>[A14]</td>\n",
              "    </tr>\n",
              "  </tbody>\n",
              "</table>\n",
              "</div>\n",
              "      <button class=\"colab-df-convert\" onclick=\"convertToInteractive('df-6f564b11-32bf-4cae-9246-62ec7d768036')\"\n",
              "              title=\"Convert this dataframe to an interactive table.\"\n",
              "              style=\"display:none;\">\n",
              "        \n",
              "  <svg xmlns=\"http://www.w3.org/2000/svg\" height=\"24px\"viewBox=\"0 0 24 24\"\n",
              "       width=\"24px\">\n",
              "    <path d=\"M0 0h24v24H0V0z\" fill=\"none\"/>\n",
              "    <path d=\"M18.56 5.44l.94 2.06.94-2.06 2.06-.94-2.06-.94-.94-2.06-.94 2.06-2.06.94zm-11 1L8.5 8.5l.94-2.06 2.06-.94-2.06-.94L8.5 2.5l-.94 2.06-2.06.94zm10 10l.94 2.06.94-2.06 2.06-.94-2.06-.94-.94-2.06-.94 2.06-2.06.94z\"/><path d=\"M17.41 7.96l-1.37-1.37c-.4-.4-.92-.59-1.43-.59-.52 0-1.04.2-1.43.59L10.3 9.45l-7.72 7.72c-.78.78-.78 2.05 0 2.83L4 21.41c.39.39.9.59 1.41.59.51 0 1.02-.2 1.41-.59l7.78-7.78 2.81-2.81c.8-.78.8-2.07 0-2.86zM5.41 20L4 18.59l7.72-7.72 1.47 1.35L5.41 20z\"/>\n",
              "  </svg>\n",
              "      </button>\n",
              "      \n",
              "  <style>\n",
              "    .colab-df-container {\n",
              "      display:flex;\n",
              "      flex-wrap:wrap;\n",
              "      gap: 12px;\n",
              "    }\n",
              "\n",
              "    .colab-df-convert {\n",
              "      background-color: #E8F0FE;\n",
              "      border: none;\n",
              "      border-radius: 50%;\n",
              "      cursor: pointer;\n",
              "      display: none;\n",
              "      fill: #1967D2;\n",
              "      height: 32px;\n",
              "      padding: 0 0 0 0;\n",
              "      width: 32px;\n",
              "    }\n",
              "\n",
              "    .colab-df-convert:hover {\n",
              "      background-color: #E2EBFA;\n",
              "      box-shadow: 0px 1px 2px rgba(60, 64, 67, 0.3), 0px 1px 3px 1px rgba(60, 64, 67, 0.15);\n",
              "      fill: #174EA6;\n",
              "    }\n",
              "\n",
              "    [theme=dark] .colab-df-convert {\n",
              "      background-color: #3B4455;\n",
              "      fill: #D2E3FC;\n",
              "    }\n",
              "\n",
              "    [theme=dark] .colab-df-convert:hover {\n",
              "      background-color: #434B5C;\n",
              "      box-shadow: 0px 1px 3px 1px rgba(0, 0, 0, 0.15);\n",
              "      filter: drop-shadow(0px 1px 2px rgba(0, 0, 0, 0.3));\n",
              "      fill: #FFFFFF;\n",
              "    }\n",
              "  </style>\n",
              "\n",
              "      <script>\n",
              "        const buttonEl =\n",
              "          document.querySelector('#df-6f564b11-32bf-4cae-9246-62ec7d768036 button.colab-df-convert');\n",
              "        buttonEl.style.display =\n",
              "          google.colab.kernel.accessAllowed ? 'block' : 'none';\n",
              "\n",
              "        async function convertToInteractive(key) {\n",
              "          const element = document.querySelector('#df-6f564b11-32bf-4cae-9246-62ec7d768036');\n",
              "          const dataTable =\n",
              "            await google.colab.kernel.invokeFunction('convertToInteractive',\n",
              "                                                     [key], {});\n",
              "          if (!dataTable) return;\n",
              "\n",
              "          const docLinkHtml = 'Like what you see? Visit the ' +\n",
              "            '<a target=\"_blank\" href=https://colab.research.google.com/notebooks/data_table.ipynb>data table notebook</a>'\n",
              "            + ' to learn more about interactive tables.';\n",
              "          element.innerHTML = '';\n",
              "          dataTable['output_type'] = 'display_data';\n",
              "          await google.colab.output.renderOutput(dataTable, element);\n",
              "          const docLink = document.createElement('div');\n",
              "          docLink.innerHTML = docLinkHtml;\n",
              "          element.appendChild(docLink);\n",
              "        }\n",
              "      </script>\n",
              "    </div>\n",
              "  </div>\n",
              "  "
            ]
          },
          "metadata": {},
          "execution_count": 132
        }
      ],
      "source": [
        "# Applying the converted formating to the data\n",
        "df_sample[\"Author_cleaned\"]=df_sample[\"authors\"].apply(lambda x: pd.Series(x).map(author_dic).tolist())\n",
        "df_sample.head(10)"
      ]
    },
    {
      "cell_type": "code",
      "execution_count": null,
      "metadata": {
        "id": "ZtxMeuZnKn2F"
      },
      "outputs": [],
      "source": [
        "dic = {}\n",
        "for i in df_sample['Author_cleaned']:\n",
        "  for p in i:\n",
        "    if p not in dic.keys():\n",
        "      dic[p] = [x for x in i if x != p] # To remove self loop\n",
        "    else:   \n",
        "      a = [x for x in i if x != p] # the authors that are present in different paper when added together other authors along with them also gets combined so we removed that.\n",
        "      dic[p] = dic[p] + [item for item in a if item not in dic[p]] \n",
        "# print(dic)"
      ]
    },
    {
      "cell_type": "markdown",
      "metadata": {
        "id": "SJ39MD9MB0Fi"
      },
      "source": [
        "# **Visualization Nomenclature**\n",
        "\n",
        "*   Author - White Node with Dark orange Node edges\n",
        "*   Paper refered - White Node with Light blue Node edges\n",
        "*   Paper being refered - Gold Node with white Node edges\n",
        "*   Venue - Lime Green Node\n",
        "\n",
        "\n",
        "\n",
        "\n",
        "\n"
      ]
    },
    {
      "cell_type": "markdown",
      "metadata": {
        "id": "Sosb8OZ5lzhZ"
      },
      "source": [
        "# **Known Author Graph For Analysis 2**"
      ]
    },
    {
      "cell_type": "code",
      "execution_count": null,
      "metadata": {
        "id": "EILhh9ARl6bs"
      },
      "outputs": [],
      "source": [
        "# import networkx as nx\n",
        "# G = nx.Graph(dic)\n",
        "# pos = nx.circular_layout(G)\n",
        "# plt.figure(figsize=(8,8)) \n",
        "# nx.draw(G,pos, node_color = 'red')\n",
        "\n",
        "# Circular plot is made to check for the interconnections between the authors in different papers."
      ]
    },
    {
      "cell_type": "markdown",
      "metadata": {
        "id": "i9m55jmZooh0"
      },
      "source": [
        "# **Known Author Graph**"
      ]
    },
    {
      "cell_type": "code",
      "execution_count": null,
      "metadata": {
        "id": "tVcAjzx0-buQ",
        "colab": {
          "base_uri": "https://localhost:8080/",
          "height": 751
        },
        "outputId": "a7a927d7-4d3c-485f-a825-e67c001e3115"
      },
      "outputs": [
        {
          "output_type": "display_data",
          "data": {
            "text/plain": [
              "<Figure size 720x720 with 1 Axes>"
            ],
            "image/png": "[encoded data removed]"
          },
          "metadata": {}
        }
      ],
      "source": [
        "G = nx.Graph(dic)\n",
        "plt.figure(figsize=(10,10)) \n",
        "my_pos = nx.spring_layout(G, k= .13, iterations=10)\n",
        "nx.draw(G,pos = my_pos,with_labels = True,edgecolors='darkorange', font_size = 10, node_size = 600, node_color = 'white')\n",
        "plt.show()"
      ]
    },
    {
      "cell_type": "markdown",
      "metadata": {
        "id": "8xk-sfrvx0Xq"
      },
      "source": [
        "**The cliques that without iterations through the individual cliques**"
      ]
    },
    {
      "cell_type": "code",
      "execution_count": null,
      "metadata": {
        "id": "9RgDdM1pxPCk",
        "colab": {
          "base_uri": "https://localhost:8080/"
        },
        "outputId": "85998c2e-e4fe-40dc-cfd6-b69c1c8d193f"
      },
      "outputs": [
        {
          "output_type": "execute_result",
          "data": {
            "text/plain": [
              "5"
            ]
          },
          "metadata": {},
          "execution_count": 136
        }
      ],
      "source": [
        "len(list(nx.find_cliques(G)))"
      ]
    },
    {
      "cell_type": "markdown",
      "metadata": {
        "id": "s9Of1fbfpHcE"
      },
      "source": [
        "**Function to write the data into network_summary loadable format.**"
      ]
    },
    {
      "cell_type": "code",
      "execution_count": null,
      "metadata": {
        "id": "AjqEadg9pGQb"
      },
      "outputs": [],
      "source": [
        "def edge_lst_text(edges, file_name):\n",
        "  Author_edgelist = []\n",
        "  for i in edges:\n",
        "    a=list(re.findall('\\d+',str(i)))\n",
        "    Author_edgelist.append([int(a[0]),int(a[1])])\n",
        "\n",
        "  path = r\"/content/drive/MyDrive/\" + file_name + \".txt\"\n",
        "  with open(path, 'w') as fp:\n",
        "    for item in Author_edgelist:\n",
        "        fp.writelines(str(item[0])+','+ str(item[1])+'\\n')\n",
        "  print('Done')"
      ]
    },
    {
      "cell_type": "code",
      "execution_count": null,
      "metadata": {
        "id": "hvNOSegfpdg-",
        "colab": {
          "base_uri": "https://localhost:8080/"
        },
        "outputId": "d587f79a-1ca9-4809-ac65-66a5a68a0cc1"
      },
      "outputs": [
        {
          "output_type": "stream",
          "name": "stdout",
          "text": [
            "Done\n"
          ]
        }
      ],
      "source": [
        "edge_lst_text(G.edges(), 'Author_edge_lst')"
      ]
    },
    {
      "cell_type": "markdown",
      "metadata": {
        "id": "GdpsYA9ZwWRr"
      },
      "source": [
        "**# Analysis 2**"
      ]
    },
    {
      "cell_type": "code",
      "execution_count": null,
      "metadata": {
        "id": "1bE0PY-DE4Wd",
        "colab": {
          "base_uri": "https://localhost:8080/"
        },
        "outputId": "23dcd208-9129-4b5c-d07f-ab0e8e024bf2"
      },
      "outputs": [
        {
          "output_type": "stream",
          "name": "stdout",
          "text": [
            "The Number of Cliques of size 3 : 20\n",
            "The Number of Cliques of size 4 : 15\n",
            "The Number of Cliques of size 5 : 6\n",
            "The Number of Cliques of size 6 : 15\n"
          ]
        }
      ],
      "source": [
        "def find_cliques_size_k(g, k):\n",
        " count = 0\n",
        " for clique in nx.find_cliques(g):\n",
        "        if len(clique) == k:\n",
        "            count += 1\n",
        "        elif len(clique) > k:\n",
        "           count += len(list(itertools.combinations(clique, k)))\n",
        "           return count\n",
        "\n",
        "print('The Number of Cliques of size 3 :', find_cliques_size_k(G, 3))\n",
        "print('The Number of Cliques of size 4 :', find_cliques_size_k(G, 4))\n",
        "print('The Number of Cliques of size 5 :', find_cliques_size_k(G, 5))\n",
        "print('The Number of Cliques of size 6 :', find_cliques_size_k(G, 4))"
      ]
    },
    {
      "cell_type": "markdown",
      "metadata": {
        "id": "3fE8eXFEnBii"
      },
      "source": [
        "**Pre Processing for Paper Paper Citation Graph For Analysis 3a**"
      ]
    },
    {
      "cell_type": "code",
      "execution_count": null,
      "metadata": {
        "id": "0k8yNwTArNnv"
      },
      "outputs": [],
      "source": [
        "ref = list(df_sample['references'].explode().unique())\n",
        "cleanedList = [x for x in ref if str(x) != 'nan']"
      ]
    },
    {
      "cell_type": "code",
      "execution_count": null,
      "metadata": {
        "id": "D_ZdUEXUyDnH"
      },
      "outputs": [],
      "source": [
        "#Adding the \n",
        "paper_unique = list(set(cleanedList + df_sample['id'].to_list()))\n",
        "paper_format = ['P{}'.format(i) for i in range(1,len(paper_unique)+1)]"
      ]
    },
    {
      "cell_type": "markdown",
      "metadata": {
        "id": "HPt5Ud_LvvMX"
      },
      "source": [
        "**Dictionary for mapping the Papers with the paper format**"
      ]
    },
    {
      "cell_type": "code",
      "execution_count": null,
      "metadata": {
        "id": "DFjDk6Z1zuZX"
      },
      "outputs": [],
      "source": [
        "paper_dic=dict(zip(paper_unique,paper_format))\n",
        "# paper_dic"
      ]
    },
    {
      "cell_type": "code",
      "execution_count": null,
      "metadata": {
        "id": "_Uxbn71pQtqT",
        "colab": {
          "base_uri": "https://localhost:8080/"
        },
        "outputId": "3152b38b-8890-4480-ac4c-4577953c4471"
      },
      "outputs": [
        {
          "output_type": "stream",
          "name": "stdout",
          "text": [
            "[nan, '246bc37a-1ac5-415b-9e43-9be781df59db', '2470f8c1-dca7-4801-82c3-76389d07fcb2', '60190ab3-5104-43f3-9fbd-5d8d00ff296c', '89be9d96-002c-4647-a222-28920788d783', '8d30f7b1-6daf-411b-b822-a6e47f7d1628', 'aa750fe3-9b58-4093-9544-420081028d6b', 'cbc15180-809e-4372-851d-f0d07b662d7c', 'd162389a-ecf0-4c86-a4c6-e4abbe7e4537', 'd9254a09-c2aa-4e31-a066-184171d87833', 'dffda390-7db2-4a1d-90e9-a1aa59383001', 'e483f641-f7f8-43dc-a649-ced3e3d67b06', '19392837-7972-4aa7-a860-d6c90458f7b8', '4f48b371-d692-4a79-ad46-a9159dfdd672', '748a2ab3-8b5f-4d0a-9e2d-af685089843a', '870d11c0-8636-4f9a-b265-1016474bebff', 'b4022bac-a157-4a3a-9cab-050b7c5a49c3', 'c9c5a9c0-f1b7-4286-8538-13476ae32e60', '382b7b47-1cd7-4236-8457-42c3e527f1f2']\n",
            "19\n",
            "18\n"
          ]
        }
      ],
      "source": [
        "# Checking whether the NaN values are removed while assigned the paper formating\n",
        "ref_unq = list(df_sample['references'].explode().unique())\n",
        "print(ref_unq)\n",
        "print(len(ref_unq))\n",
        "for i in ref_unq:\n",
        "  if str(i) == 'nan' or str(i) == 'NaN':\n",
        "    ref_unq.remove(i)\n",
        "  else:\n",
        "    pass\n",
        "\n",
        "print(len(ref_unq))"
      ]
    },
    {
      "cell_type": "code",
      "execution_count": null,
      "metadata": {
        "id": "0G9vPWl8RB_0",
        "colab": {
          "base_uri": "https://localhost:8080/"
        },
        "outputId": "4f93e1f2-2874-4919-c3a2-f2aa676d15a2"
      },
      "outputs": [
        {
          "output_type": "stream",
          "name": "stdout",
          "text": [
            "Paper unique 23\n",
            "Paper non unique 23\n"
          ]
        }
      ],
      "source": [
        "# Checking the unique value in the paper to the paper that is being referred multiple times.\n",
        "paper_unique = list(set(ref_unq + df_sample['id'].to_list()))\n",
        "paper_non_unique = ref_unq + df_sample['id'].to_list()\n",
        "list_var=['P{}'.format(i) for i in range(1,len(paper_unique)+1)]\n",
        "print(\"Paper unique\",len(paper_unique))\n",
        "print(\"Paper non unique\", len(paper_non_unique))"
      ]
    },
    {
      "cell_type": "code",
      "execution_count": null,
      "metadata": {
        "id": "mAZqZBQQRLCi",
        "colab": {
          "base_uri": "https://localhost:8080/"
        },
        "outputId": "e0122769-4986-4eef-fcd8-fb2b185778c7"
      },
      "outputs": [
        {
          "output_type": "stream",
          "name": "stderr",
          "text": [
            "<ipython-input-145-bfd01ed169e8>:2: DeprecationWarning: The default dtype for empty Series will be 'object' instead of 'float64' in a future version. Specify a dtype explicitly to silence this warning.\n",
            "  df_sample[\"Paper_reference\"]   =  df_sample[\"references\"].apply(lambda x: pd.Series(x).map(paper_dic).to_list())\n"
          ]
        }
      ],
      "source": [
        "# Applying the converted formating to the data\n",
        "df_sample[\"Paper_reference\"]   =  df_sample[\"references\"].apply(lambda x: pd.Series(x).map(paper_dic).to_list())\n",
        "# Applying the converted formating to the data\n",
        "df_sample[\"paper Id\"]=df_sample[\"id\"].apply(lambda x: pd.Series(x).map(paper_dic))"
      ]
    },
    {
      "cell_type": "code",
      "execution_count": null,
      "metadata": {
        "id": "O_ighpVzYKtQ",
        "colab": {
          "base_uri": "https://localhost:8080/",
          "height": 441
        },
        "outputId": "91f69236-1242-4a65-effc-f8b4df08af5f"
      },
      "outputs": [
        {
          "output_type": "execute_result",
          "data": {
            "text/plain": [
              "                                              authors  n_citation  \\\n",
              "87  [Russell A. Poldrack, Paul C. Fletcher, Richar...         288   \n",
              "80                    [Jack Rogers, Matthew H. Davis]           0   \n",
              "47                              [Wei Wang, Wei Zhang]           0   \n",
              "93                [Wenju Li, Kaixue Ma, Shouxian Mou]           0   \n",
              "51                                   [Mark Northover]          50   \n",
              "\n",
              "                                           references  \\\n",
              "87                                                 []   \n",
              "80  [246bc37a-1ac5-415b-9e43-9be781df59db, 2470f8c...   \n",
              "47  [19392837-7972-4aa7-a860-d6c90458f7b8, 4f48b37...   \n",
              "93                                                 []   \n",
              "51             [382b7b47-1cd7-4236-8457-42c3e527f1f2]   \n",
              "\n",
              "                                                title  \\\n",
              "87             Guidelines for reporting an fMRI study   \n",
              "80  Inferior Frontal Cortex Contributions to the R...   \n",
              "47   Adaptive Spatial Modulation Using Huffman Coding   \n",
              "93  A Ku-band high-isolation SPDT switch in 0.35um...   \n",
              "51          Online discussion boards - friend or foe?   \n",
              "\n",
              "                                venue  year  \\\n",
              "87                         NeuroImage  2008   \n",
              "80  Journal of Cognitive Neuroscience  2017   \n",
              "47   global communications conference  2016   \n",
              "93                                NaN  2016   \n",
              "51                                NaN  2002   \n",
              "\n",
              "                                      id            Author_cleaned  \\\n",
              "87  4ab9b413-e370-4bde-87e4-046e10458f0b  [A1, A2, A3, A4, A5, A6]   \n",
              "80  1032c089-6dc4-40b7-bfe3-fec28c7d358d                  [A7, A8]   \n",
              "47  0a13520f-b058-43ff-ad3b-5e292422887e                 [A9, A10]   \n",
              "93  144ca465-2ce0-47d5-9588-54df33b83536           [A11, A12, A13]   \n",
              "51  02ad7019-1c4c-4a23-85ac-086e4cfcfcb2                     [A14]   \n",
              "\n",
              "                                      Paper_reference paper Id  \n",
              "87                                                 []       P3  \n",
              "80  [P1, P8, P18, P20, P19, P21, P16, P7, P15, P22...       P9  \n",
              "47                         [P5, P6, P4, P2, P10, P11]      P14  \n",
              "93                                                 []      P12  \n",
              "51                                              [P23]      P13  "
            ],
            "text/html": [
              "\n",
              "  <div id=\"df-1f60856a-4ba6-4b49-9faa-770a690f5912\">\n",
              "    <div class=\"colab-df-container\">\n",
              "      <div>\n",
              "<style scoped>\n",
              "    .dataframe tbody tr th:only-of-type {\n",
              "        vertical-align: middle;\n",
              "    }\n",
              "\n",
              "    .dataframe tbody tr th {\n",
              "        vertical-align: top;\n",
              "    }\n",
              "\n",
              "    .dataframe thead th {\n",
              "        text-align: right;\n",
              "    }\n",
              "</style>\n",
              "<table border=\"1\" class=\"dataframe\">\n",
              "  <thead>\n",
              "    <tr style=\"text-align: right;\">\n",
              "      <th></th>\n",
              "      <th>authors</th>\n",
              "      <th>n_citation</th>\n",
              "      <th>references</th>\n",
              "      <th>title</th>\n",
              "      <th>venue</th>\n",
              "      <th>year</th>\n",
              "      <th>id</th>\n",
              "      <th>Author_cleaned</th>\n",
              "      <th>Paper_reference</th>\n",
              "      <th>paper Id</th>\n",
              "    </tr>\n",
              "  </thead>\n",
              "  <tbody>\n",
              "    <tr>\n",
              "      <th>87</th>\n",
              "      <td>[Russell A. Poldrack, Paul C. Fletcher, Richar...</td>\n",
              "      <td>288</td>\n",
              "      <td>[]</td>\n",
              "      <td>Guidelines for reporting an fMRI study</td>\n",
              "      <td>NeuroImage</td>\n",
              "      <td>2008</td>\n",
              "      <td>4ab9b413-e370-4bde-87e4-046e10458f0b</td>\n",
              "      <td>[A1, A2, A3, A4, A5, A6]</td>\n",
              "      <td>[]</td>\n",
              "      <td>P3</td>\n",
              "    </tr>\n",
              "    <tr>\n",
              "      <th>80</th>\n",
              "      <td>[Jack Rogers, Matthew H. Davis]</td>\n",
              "      <td>0</td>\n",
              "      <td>[246bc37a-1ac5-415b-9e43-9be781df59db, 2470f8c...</td>\n",
              "      <td>Inferior Frontal Cortex Contributions to the R...</td>\n",
              "      <td>Journal of Cognitive Neuroscience</td>\n",
              "      <td>2017</td>\n",
              "      <td>1032c089-6dc4-40b7-bfe3-fec28c7d358d</td>\n",
              "      <td>[A7, A8]</td>\n",
              "      <td>[P1, P8, P18, P20, P19, P21, P16, P7, P15, P22...</td>\n",
              "      <td>P9</td>\n",
              "    </tr>\n",
              "    <tr>\n",
              "      <th>47</th>\n",
              "      <td>[Wei Wang, Wei Zhang]</td>\n",
              "      <td>0</td>\n",
              "      <td>[19392837-7972-4aa7-a860-d6c90458f7b8, 4f48b37...</td>\n",
              "      <td>Adaptive Spatial Modulation Using Huffman Coding</td>\n",
              "      <td>global communications conference</td>\n",
              "      <td>2016</td>\n",
              "      <td>0a13520f-b058-43ff-ad3b-5e292422887e</td>\n",
              "      <td>[A9, A10]</td>\n",
              "      <td>[P5, P6, P4, P2, P10, P11]</td>\n",
              "      <td>P14</td>\n",
              "    </tr>\n",
              "    <tr>\n",
              "      <th>93</th>\n",
              "      <td>[Wenju Li, Kaixue Ma, Shouxian Mou]</td>\n",
              "      <td>0</td>\n",
              "      <td>[]</td>\n",
              "      <td>A Ku-band high-isolation SPDT switch in 0.35um...</td>\n",
              "      <td>NaN</td>\n",
              "      <td>2016</td>\n",
              "      <td>144ca465-2ce0-47d5-9588-54df33b83536</td>\n",
              "      <td>[A11, A12, A13]</td>\n",
              "      <td>[]</td>\n",
              "      <td>P12</td>\n",
              "    </tr>\n",
              "    <tr>\n",
              "      <th>51</th>\n",
              "      <td>[Mark Northover]</td>\n",
              "      <td>50</td>\n",
              "      <td>[382b7b47-1cd7-4236-8457-42c3e527f1f2]</td>\n",
              "      <td>Online discussion boards - friend or foe?</td>\n",
              "      <td>NaN</td>\n",
              "      <td>2002</td>\n",
              "      <td>02ad7019-1c4c-4a23-85ac-086e4cfcfcb2</td>\n",
              "      <td>[A14]</td>\n",
              "      <td>[P23]</td>\n",
              "      <td>P13</td>\n",
              "    </tr>\n",
              "  </tbody>\n",
              "</table>\n",
              "</div>\n",
              "      <button class=\"colab-df-convert\" onclick=\"convertToInteractive('df-1f60856a-4ba6-4b49-9faa-770a690f5912')\"\n",
              "              title=\"Convert this dataframe to an interactive table.\"\n",
              "              style=\"display:none;\">\n",
              "        \n",
              "  <svg xmlns=\"http://www.w3.org/2000/svg\" height=\"24px\"viewBox=\"0 0 24 24\"\n",
              "       width=\"24px\">\n",
              "    <path d=\"M0 0h24v24H0V0z\" fill=\"none\"/>\n",
              "    <path d=\"M18.56 5.44l.94 2.06.94-2.06 2.06-.94-2.06-.94-.94-2.06-.94 2.06-2.06.94zm-11 1L8.5 8.5l.94-2.06 2.06-.94-2.06-.94L8.5 2.5l-.94 2.06-2.06.94zm10 10l.94 2.06.94-2.06 2.06-.94-2.06-.94-.94-2.06-.94 2.06-2.06.94z\"/><path d=\"M17.41 7.96l-1.37-1.37c-.4-.4-.92-.59-1.43-.59-.52 0-1.04.2-1.43.59L10.3 9.45l-7.72 7.72c-.78.78-.78 2.05 0 2.83L4 21.41c.39.39.9.59 1.41.59.51 0 1.02-.2 1.41-.59l7.78-7.78 2.81-2.81c.8-.78.8-2.07 0-2.86zM5.41 20L4 18.59l7.72-7.72 1.47 1.35L5.41 20z\"/>\n",
              "  </svg>\n",
              "      </button>\n",
              "      \n",
              "  <style>\n",
              "    .colab-df-container {\n",
              "      display:flex;\n",
              "      flex-wrap:wrap;\n",
              "      gap: 12px;\n",
              "    }\n",
              "\n",
              "    .colab-df-convert {\n",
              "      background-color: #E8F0FE;\n",
              "      border: none;\n",
              "      border-radius: 50%;\n",
              "      cursor: pointer;\n",
              "      display: none;\n",
              "      fill: #1967D2;\n",
              "      height: 32px;\n",
              "      padding: 0 0 0 0;\n",
              "      width: 32px;\n",
              "    }\n",
              "\n",
              "    .colab-df-convert:hover {\n",
              "      background-color: #E2EBFA;\n",
              "      box-shadow: 0px 1px 2px rgba(60, 64, 67, 0.3), 0px 1px 3px 1px rgba(60, 64, 67, 0.15);\n",
              "      fill: #174EA6;\n",
              "    }\n",
              "\n",
              "    [theme=dark] .colab-df-convert {\n",
              "      background-color: #3B4455;\n",
              "      fill: #D2E3FC;\n",
              "    }\n",
              "\n",
              "    [theme=dark] .colab-df-convert:hover {\n",
              "      background-color: #434B5C;\n",
              "      box-shadow: 0px 1px 3px 1px rgba(0, 0, 0, 0.15);\n",
              "      filter: drop-shadow(0px 1px 2px rgba(0, 0, 0, 0.3));\n",
              "      fill: #FFFFFF;\n",
              "    }\n",
              "  </style>\n",
              "\n",
              "      <script>\n",
              "        const buttonEl =\n",
              "          document.querySelector('#df-1f60856a-4ba6-4b49-9faa-770a690f5912 button.colab-df-convert');\n",
              "        buttonEl.style.display =\n",
              "          google.colab.kernel.accessAllowed ? 'block' : 'none';\n",
              "\n",
              "        async function convertToInteractive(key) {\n",
              "          const element = document.querySelector('#df-1f60856a-4ba6-4b49-9faa-770a690f5912');\n",
              "          const dataTable =\n",
              "            await google.colab.kernel.invokeFunction('convertToInteractive',\n",
              "                                                     [key], {});\n",
              "          if (!dataTable) return;\n",
              "\n",
              "          const docLinkHtml = 'Like what you see? Visit the ' +\n",
              "            '<a target=\"_blank\" href=https://colab.research.google.com/notebooks/data_table.ipynb>data table notebook</a>'\n",
              "            + ' to learn more about interactive tables.';\n",
              "          element.innerHTML = '';\n",
              "          dataTable['output_type'] = 'display_data';\n",
              "          await google.colab.output.renderOutput(dataTable, element);\n",
              "          const docLink = document.createElement('div');\n",
              "          docLink.innerHTML = docLinkHtml;\n",
              "          element.appendChild(docLink);\n",
              "        }\n",
              "      </script>\n",
              "    </div>\n",
              "  </div>\n",
              "  "
            ]
          },
          "metadata": {},
          "execution_count": 146
        }
      ],
      "source": [
        "df_sample.head(10)"
      ]
    },
    {
      "cell_type": "code",
      "execution_count": null,
      "metadata": {
        "id": "guClc4e-zDI9"
      },
      "outputs": [],
      "source": [
        "id_ref = dict(zip(df_sample['paper Id'],df_sample['Paper_reference']))\n",
        "new_id_ref = {}\n",
        "for key, val in id_ref.copy().items():\n",
        "  if str(val) == '[]' or str(val) == '[nan]':\n",
        "    del id_ref[key]\n",
        "  else:\n",
        "    pass\n",
        "# id_ref\n",
        "# Removing the nan values from the keys so that it can be considered for plotting the graph. NaN values are not considered since the those papers are not published in any conference."
      ]
    },
    {
      "cell_type": "markdown",
      "metadata": {
        "id": "TBa4aqx9Quem"
      },
      "source": [
        "# **Paper Citation Graph**"
      ]
    },
    {
      "cell_type": "code",
      "execution_count": null,
      "metadata": {
        "id": "X14hIXSgR57x",
        "colab": {
          "base_uri": "https://localhost:8080/",
          "height": 751
        },
        "outputId": "6f889dcd-1b95-4ce3-e5c8-556fae101aae"
      },
      "outputs": [
        {
          "output_type": "display_data",
          "data": {
            "text/plain": [
              "<Figure size 720x720 with 1 Axes>"
            ],
            "image/png": "[encoded data removed]"
          },
          "metadata": {}
        }
      ],
      "source": [
        "p = nx.DiGraph(id_ref)\n",
        "\n",
        "plt.rcParams[\"figure.figsize\"] = (10,10)\n",
        "color_map = [\"gold\" if node in id_ref.keys() else 'white' for node in p]\n",
        "color_edges = [\"white\" if node in id_ref.keys() else 'C0' for node in p]\n",
        "nx.draw(p, with_labels = True,font_size = 8, edgecolors = color_edges, node_size = 1000, node_color = color_map)\n",
        "plt.show()\n"
      ]
    },
    {
      "cell_type": "code",
      "execution_count": null,
      "metadata": {
        "id": "J_6mGCibPAJv",
        "colab": {
          "base_uri": "https://localhost:8080/"
        },
        "outputId": "6a26e9a0-644b-462b-de0d-87a2cff82067"
      },
      "outputs": [
        {
          "output_type": "stream",
          "name": "stdout",
          "text": [
            "Done\n"
          ]
        }
      ],
      "source": [
        "edge_lst_text(p.edges(), 'paper_citation_edge_lst')"
      ]
    },
    {
      "cell_type": "markdown",
      "metadata": {
        "id": "DqM_kb0_Vmlq"
      },
      "source": [
        "**Analysis 3a**"
      ]
    },
    {
      "cell_type": "markdown",
      "metadata": {
        "id": "m9T971q0534Y"
      },
      "source": [
        "**Top 5 papers that are being refered the most in the data**"
      ]
    },
    {
      "cell_type": "code",
      "execution_count": null,
      "metadata": {
        "id": "P9twV6sNVbRY",
        "colab": {
          "base_uri": "https://localhost:8080/"
        },
        "outputId": "f725053b-b82e-46b1-db88-5811761f9ba0"
      },
      "outputs": [
        {
          "output_type": "stream",
          "name": "stdout",
          "text": [
            "['P1', 'P8', 'P18', 'P20', 'P19']\n"
          ]
        }
      ],
      "source": [
        "degree_lst = nx.in_degree_centrality(p)\n",
        "max_ref_paper = sorted(degree_lst, key=degree_lst.get, reverse=True)[:5]\n",
        "print(max_ref_paper)"
      ]
    },
    {
      "cell_type": "code",
      "execution_count": null,
      "metadata": {
        "id": "OwbgLc0Yexxv"
      },
      "outputs": [],
      "source": [
        "# for id, elem in enumerate(df_sample['paper Id']):\n",
        "#   for i in max_ref_paper:\n",
        "#     if i in elem:\n",
        "#       print(df_sample['title'][id])\n",
        "# For the sample data the most cited paper is not present since each referred paper is referred only ones."
      ]
    },
    {
      "cell_type": "markdown",
      "metadata": {
        "id": "3SJUqiBV7lCk"
      },
      "source": [
        "**Pre Processing for Author-Venue-graph For Analysis 3b**"
      ]
    },
    {
      "cell_type": "code",
      "execution_count": null,
      "metadata": {
        "id": "aZ7p-c76VGX8",
        "colab": {
          "base_uri": "https://localhost:8080/"
        },
        "outputId": "5c8a7ae8-486f-488b-e45b-7e9f25a1d2a5"
      },
      "outputs": [
        {
          "output_type": "execute_result",
          "data": {
            "text/plain": [
              "array(['NeuroImage', 'Journal of Cognitive Neuroscience',\n",
              "       'global communications conference', nan], dtype=object)"
            ]
          },
          "metadata": {},
          "execution_count": 152
        }
      ],
      "source": [
        "#Checking for the unique values\n",
        "df_sample['venue'].unique()"
      ]
    },
    {
      "cell_type": "code",
      "execution_count": null,
      "metadata": {
        "id": "KGIf2VKYKudp",
        "colab": {
          "base_uri": "https://localhost:8080/"
        },
        "outputId": "28603aac-21c2-483b-aa27-728cf44529e8"
      },
      "outputs": [
        {
          "output_type": "execute_result",
          "data": {
            "text/plain": [
              "87                           NeuroImage\n",
              "80    Journal of Cognitive Neuroscience\n",
              "47     global communications conference\n",
              "93                                  NaN\n",
              "51                                  NaN\n",
              "Name: venue, dtype: object"
            ]
          },
          "metadata": {},
          "execution_count": 153
        }
      ],
      "source": [
        "df_sample['venue']"
      ]
    },
    {
      "cell_type": "code",
      "execution_count": null,
      "metadata": {
        "id": "Iuhw2BjU-wAW"
      },
      "outputs": [],
      "source": [
        "uniq_venue = df_sample['venue'].unique().tolist()\n",
        "for i in uniq_venue:\n",
        "  if i == '' or str(i) == 'NaN':\n",
        "    uniq_venue.remove(i)\n",
        "  else:\n",
        "    pass"
      ]
    },
    {
      "cell_type": "code",
      "execution_count": null,
      "metadata": {
        "id": "c1uJVCXN3tcz"
      },
      "outputs": [],
      "source": [
        "# Multiplying a 10 to the venue_formatting since when we are considering 20k+ the numbers in the network summary file will be same for the authors and venue.\n",
        "Venue_formating = ['V{}'.format(i + sample_size*10) for i in range(1,len(uniq_venue)+1)]"
      ]
    },
    {
      "cell_type": "markdown",
      "metadata": {
        "id": "bqdzpib79KAR"
      },
      "source": [
        "**Venue reference Dictionary**"
      ]
    },
    {
      "cell_type": "code",
      "execution_count": null,
      "metadata": {
        "id": "odyOSepYFeUl"
      },
      "outputs": [],
      "source": [
        "v_dic = dict(zip(uniq_venue, Venue_formating))\n",
        "# v_dic"
      ]
    },
    {
      "cell_type": "code",
      "execution_count": null,
      "metadata": {
        "id": "FPY4zcRMHWVg"
      },
      "outputs": [],
      "source": [
        "#Applying the formatting to the data\n",
        "df_sample[\"Venue_cleaned\"]=df_sample['venue'].apply(lambda x: pd.Series(x).map(v_dic))\n",
        "# df_sample"
      ]
    },
    {
      "cell_type": "code",
      "execution_count": null,
      "metadata": {
        "id": "curDvKEvH24O"
      },
      "outputs": [],
      "source": [
        "#Combining the value venue and authors who presented the paper in that venue togehther.\n",
        "v_dic = dict(zip(df_sample['Venue_cleaned'], df_sample['Author_cleaned']))\n",
        "for i in v_dic.copy():\n",
        "  if type(i) == float:\n",
        "    v_dic.pop(i)\n",
        "# v_dic"
      ]
    },
    {
      "cell_type": "code",
      "execution_count": null,
      "metadata": {
        "id": "XUF0ufxp-AYw"
      },
      "outputs": [],
      "source": [
        "#Combining the Venue_cleaned column and year so that it can be plotted in the graph for edge label.\n",
        "venue_year = dict(zip(df_sample['Venue_cleaned'], df_sample['year']))"
      ]
    },
    {
      "cell_type": "markdown",
      "metadata": {
        "id": "JM5wboxtASeO"
      },
      "source": [
        "# **Author Venue Graph**"
      ]
    },
    {
      "cell_type": "code",
      "execution_count": null,
      "metadata": {
        "id": "haL4zyb5n4Xx",
        "colab": {
          "base_uri": "https://localhost:8080/",
          "height": 751
        },
        "outputId": "5d154480-3e2c-4757-9035-f0f66ee89172"
      },
      "outputs": [
        {
          "output_type": "display_data",
          "data": {
            "text/plain": [
              "<Figure size 720x720 with 1 Axes>"
            ],
            "image/png": "[encoded data removed]"
          },
          "metadata": {}
        }
      ],
      "source": [
        "v = nx.Graph(v_dic)\n",
        "\n",
        "edge_labeled = {}\n",
        "for edge in v.edges():\n",
        "  if edge[0] in venue_year.keys():\n",
        "    edge_labeled[edge] = venue_year[edge[0]]\n",
        "  else:\n",
        "    pass\n",
        "\n",
        "plt.rcParams[\"figure.figsize\"] = (10,10)\n",
        "pos = nx.spring_layout(v, k= .15, iterations=13)\n",
        "color_map = [\"limegreen\" if node in v_dic.keys() else 'white' for node in v]\n",
        "color_edges = [\"limegreen\" if node in v_dic.keys() else 'darkorange' for node in v]\n",
        "nx.draw(v,pos, with_labels = True,font_size = 8, edgecolors = color_edges, node_size = 600, node_color = color_map)\n",
        "nx.draw_networkx_edge_labels(v,pos, edge_labels= edge_labeled, font_color='black')\n",
        "plt.axis('off')\n",
        "plt.show()"
      ]
    },
    {
      "cell_type": "code",
      "execution_count": null,
      "metadata": {
        "id": "6L7_JmRZQFXS",
        "colab": {
          "base_uri": "https://localhost:8080/"
        },
        "outputId": "de7c8825-654e-468e-bb97-cb04bc84df99"
      },
      "outputs": [
        {
          "output_type": "stream",
          "name": "stdout",
          "text": [
            "Done\n"
          ]
        }
      ],
      "source": [
        "edge_lst_text(v.edges(), 'venue_author_edge_lst_sample')"
      ]
    },
    {
      "cell_type": "code",
      "execution_count": null,
      "metadata": {
        "id": "N73sZFl0BX3t"
      },
      "outputs": [],
      "source": []
    },
    {
      "cell_type": "code",
      "execution_count": null,
      "metadata": {
        "id": "5Y_51_5GGigd"
      },
      "outputs": [],
      "source": []
    },
    {
      "cell_type": "code",
      "execution_count": null,
      "metadata": {
        "id": "VoNjAnU9Jhbu"
      },
      "outputs": [],
      "source": []
    },
    {
      "cell_type": "code",
      "execution_count": null,
      "metadata": {
        "id": "bIGo5ax7JlOo"
      },
      "outputs": [],
      "source": []
    }
  ],
  "metadata": {
    "accelerator": "GPU",
    "colab": {
      "provenance": []
    },
    "gpuClass": "standard",
    "kernelspec": {
      "display_name": "Python 3",
      "name": "python3"
    },
    "language_info": {
      "name": "python"
    }
  },
  "nbformat": 4,
  "nbformat_minor": 0
}